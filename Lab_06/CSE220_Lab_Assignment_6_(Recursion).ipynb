{
  "nbformat": 4,
  "nbformat_minor": 0,
  "metadata": {
    "colab": {
      "provenance": []
    },
    "kernelspec": {
      "name": "python3",
      "display_name": "Python 3"
    },
    "language_info": {
      "name": "python"
    }
  },
  "cells": [
    {
      "cell_type": "markdown",
      "source": [
        "# Task 1"
      ],
      "metadata": {
        "id": "FM34Q5TJLBxe"
      }
    },
    {
      "cell_type": "markdown",
      "source": [
        "a)"
      ],
      "metadata": {
        "id": "9BDir2KTLB-a"
      }
    },
    {
      "cell_type": "code",
      "execution_count": null,
      "metadata": {
        "colab": {
          "base_uri": "https://localhost:8080/"
        },
        "id": "YtNudzQ7Kk-q",
        "outputId": "53c6f0af-e4d1-4fa4-cd6e-396af10ecf00"
      },
      "outputs": [
        {
          "output_type": "execute_result",
          "data": {
            "text/plain": [
              "24"
            ]
          },
          "metadata": {},
          "execution_count": 2
        }
      ],
      "source": [
        "def factorial(n):\n",
        "    if n > 1:\n",
        "        return n * factorial(n-1)\n",
        "    return 1\n",
        "\n",
        "factorial(4)"
      ]
    },
    {
      "cell_type": "markdown",
      "source": [
        "b)"
      ],
      "metadata": {
        "id": "vVkfQRtLLCBH"
      }
    },
    {
      "cell_type": "code",
      "source": [
        "def fibonacci(n):\n",
        "    if n > 1:\n",
        "        return fibonacci(n-1) + fibonacci(n-2)\n",
        "    return n\n",
        "\n",
        "fibonacci(7)\n",
        "\n",
        "# for i in range(12):\n",
        "#     print(fibonacci(i), end=' ')"
      ],
      "metadata": {
        "colab": {
          "base_uri": "https://localhost:8080/"
        },
        "id": "8T7yAoUtLTND",
        "outputId": "c9b8ef79-a906-41bf-e4cb-19fd2f589a37"
      },
      "execution_count": null,
      "outputs": [
        {
          "output_type": "execute_result",
          "data": {
            "text/plain": [
              "13"
            ]
          },
          "metadata": {},
          "execution_count": 3
        }
      ]
    },
    {
      "cell_type": "markdown",
      "source": [
        "c)"
      ],
      "metadata": {
        "id": "HmjbvJlzLCEX"
      }
    },
    {
      "cell_type": "code",
      "source": [
        "def array(arr, idx):\n",
        "    if idx < len(arr):\n",
        "        if idx == len(arr)-1:\n",
        "            print(arr[idx])\n",
        "        else:\n",
        "            print(arr[idx], end=\", \")\n",
        "        return array(arr, idx + 1)\n",
        "array([0,1,2,3,4,5,6,7,8], 0)"
      ],
      "metadata": {
        "colab": {
          "base_uri": "https://localhost:8080/"
        },
        "id": "IwWeRnWiLTR_",
        "outputId": "b7e44ee3-d174-4a0c-c09b-212c1b921f54"
      },
      "execution_count": null,
      "outputs": [
        {
          "output_type": "stream",
          "name": "stdout",
          "text": [
            "0, 1, 2, 3, 4, 5, 6, 7, 8\n"
          ]
        }
      ]
    },
    {
      "cell_type": "markdown",
      "source": [
        "d)"
      ],
      "metadata": {
        "id": "Iwkl1GamLH5B"
      }
    },
    {
      "cell_type": "code",
      "source": [
        "def powerN(base, n):\n",
        "    if n == 0:\n",
        "        return 1\n",
        "    else:\n",
        "        return base * powerN(base, n-1)\n",
        "powerN(3, 3)"
      ],
      "metadata": {
        "colab": {
          "base_uri": "https://localhost:8080/"
        },
        "id": "N7d1v7eALTPV",
        "outputId": "79249d56-1fad-47e6-b0ef-1f25b3d7ba10"
      },
      "execution_count": null,
      "outputs": [
        {
          "output_type": "execute_result",
          "data": {
            "text/plain": [
              "27"
            ]
          },
          "metadata": {},
          "execution_count": 5
        }
      ]
    },
    {
      "cell_type": "markdown",
      "source": [
        "# Task 2"
      ],
      "metadata": {
        "id": "a0wKt4s6LqsT"
      }
    },
    {
      "cell_type": "markdown",
      "source": [
        "a)"
      ],
      "metadata": {
        "id": "TDF5l7aPLzMm"
      }
    },
    {
      "cell_type": "code",
      "source": [
        "def dec_to_bin(num):\n",
        "    if num > 1:\n",
        "        a = num // 2\n",
        "        dec_to_bin(a)\n",
        "\n",
        "    print(num % 2, end = \"\")\n",
        "\n",
        "dec_to_bin(255)"
      ],
      "metadata": {
        "colab": {
          "base_uri": "https://localhost:8080/"
        },
        "id": "JHIOAG_mLTVW",
        "outputId": "6f6a958c-9d9d-42b9-cef1-ae11ace675a6"
      },
      "execution_count": null,
      "outputs": [
        {
          "output_type": "stream",
          "name": "stdout",
          "text": [
            "11111111"
          ]
        }
      ]
    },
    {
      "cell_type": "markdown",
      "source": [
        "Linked List Creation:"
      ],
      "metadata": {
        "id": "BFDttok0MjXn"
      }
    },
    {
      "cell_type": "code",
      "source": [
        "class Node:\n",
        "  def __init__(self, e, n):\n",
        "    self.element = e\n",
        "    self.next = n"
      ],
      "metadata": {
        "id": "3Z8yoXd-L4da"
      },
      "execution_count": null,
      "outputs": []
    },
    {
      "cell_type": "code",
      "source": [
        "class LinkedList:\n",
        "\n",
        "  def __init__(self, a):\n",
        "    self.head = None\n",
        "    if type(a) == list:\n",
        "        self.head = Node(a[0], None)\n",
        "        tail = self.head\n",
        "        for i in range(1, len(a)):\n",
        "            n = Node(a[i], None)\n",
        "            tail.next = n\n",
        "            tail = tail.next\n",
        "    else:\n",
        "        self.head = a\n",
        "\n",
        "  def getHead(self):\n",
        "    return self.head"
      ],
      "metadata": {
        "id": "AsSusBAlL44Z"
      },
      "execution_count": null,
      "outputs": []
    },
    {
      "cell_type": "code",
      "source": [
        "ll1= LinkedList([5,10,15,-5,12])\n",
        "head= ll1.getHead()"
      ],
      "metadata": {
        "id": "tcJDWAh-L4l7"
      },
      "execution_count": null,
      "outputs": []
    },
    {
      "cell_type": "markdown",
      "source": [
        "b)"
      ],
      "metadata": {
        "id": "u9xNucGKL1ka"
      }
    },
    {
      "cell_type": "code",
      "source": [
        "def add_elem_of_linked_list(head):\n",
        "    if head == None:\n",
        "        return 0\n",
        "    else:\n",
        "        return head.element + add_elem_of_linked_list(head.next)\n",
        "add_elem_of_linked_list(head)"
      ],
      "metadata": {
        "colab": {
          "base_uri": "https://localhost:8080/"
        },
        "id": "osHUbF2RL4ik",
        "outputId": "ca91db82-81ef-453b-fe7c-9c0a975dcd47"
      },
      "execution_count": null,
      "outputs": [
        {
          "output_type": "execute_result",
          "data": {
            "text/plain": [
              "37"
            ]
          },
          "metadata": {},
          "execution_count": 10
        }
      ]
    },
    {
      "cell_type": "markdown",
      "source": [
        "c)"
      ],
      "metadata": {
        "id": "fyJZ4pHNMOhE"
      }
    },
    {
      "cell_type": "code",
      "source": [
        "def ReverseListPrint(head):\n",
        "  if head!=None:\n",
        "    ReverseListPrint(head.next)\n",
        "    print(head.element)\n",
        "\n",
        "ReverseListPrint(head)"
      ],
      "metadata": {
        "colab": {
          "base_uri": "https://localhost:8080/"
        },
        "id": "k9qGu6hGMQGS",
        "outputId": "2540f890-031d-4a2e-ea9b-299befec04ac"
      },
      "execution_count": null,
      "outputs": [
        {
          "output_type": "stream",
          "name": "stdout",
          "text": [
            "12\n",
            "-5\n",
            "15\n",
            "10\n",
            "5\n"
          ]
        }
      ]
    },
    {
      "cell_type": "markdown",
      "source": [
        "# Task - 3"
      ],
      "metadata": {
        "id": "uzalpnfXMrKz"
      }
    },
    {
      "cell_type": "code",
      "source": [
        "def hocBuilder(height):\n",
        "    if height == 0:\n",
        "        return 0\n",
        "    elif height == 1:\n",
        "        return 8\n",
        "    else:\n",
        "        return 5 + hocBuilder(height - 1)\n",
        "\n",
        "hocBuilder(4)"
      ],
      "metadata": {
        "colab": {
          "base_uri": "https://localhost:8080/"
        },
        "id": "bU6-0ZUxMs7o",
        "outputId": "00804ea4-937f-4442-c582-c1f183cf6bbc"
      },
      "execution_count": null,
      "outputs": [
        {
          "output_type": "execute_result",
          "data": {
            "text/plain": [
              "23"
            ]
          },
          "metadata": {},
          "execution_count": 12
        }
      ]
    },
    {
      "cell_type": "markdown",
      "source": [
        "# Task - 4"
      ],
      "metadata": {
        "id": "ngYr2K0dMt5y"
      }
    },
    {
      "cell_type": "markdown",
      "source": [
        "a)"
      ],
      "metadata": {
        "id": "lcH_GehrMy4f"
      }
    },
    {
      "cell_type": "code",
      "source": [
        "def pattern(n, counter):\n",
        "    if counter != n:\n",
        "        def printnumbers(n, counter, number=0):\n",
        "            if number == counter + 1:\n",
        "                print()\n",
        "                return\n",
        "            else:\n",
        "                print(number + 1, end=\" \")\n",
        "                printnumbers(n, counter, number + 1)\n",
        "\n",
        "        printnumbers(n, counter)\n",
        "        pattern(n, counter + 1)\n",
        "    return\n",
        "\n",
        "pattern(5,0)"
      ],
      "metadata": {
        "colab": {
          "base_uri": "https://localhost:8080/"
        },
        "id": "-hcBJgsFMwE_",
        "outputId": "a1f02153-b788-4bfe-dc3b-efac96309d0a"
      },
      "execution_count": null,
      "outputs": [
        {
          "output_type": "stream",
          "name": "stdout",
          "text": [
            "1 \n",
            "1 2 \n",
            "1 2 3 \n",
            "1 2 3 4 \n",
            "1 2 3 4 5 \n"
          ]
        }
      ]
    },
    {
      "cell_type": "markdown",
      "source": [
        "b)"
      ],
      "metadata": {
        "id": "601l_M4dMztW"
      }
    },
    {
      "cell_type": "code",
      "source": [
        "def pattern(n, counter):\n",
        "    if counter == None:\n",
        "        counter = n\n",
        "    if n > 0:\n",
        "        def printspaces(number, count=1):\n",
        "            if count < number:\n",
        "                print(\" \", end=\" \")\n",
        "                printspaces(number, count + 1)\n",
        "\n",
        "        def printnumbers(number, count=1):\n",
        "            if count < number + 1:\n",
        "                print(count, end=\" \")\n",
        "                printnumbers(number, count + 1)\n",
        "\n",
        "        printspaces(n)\n",
        "        printnumbers(counter - n + 1)\n",
        "        print()\n",
        "        pattern(n - 1, counter)\n",
        "pattern(5,5)"
      ],
      "metadata": {
        "colab": {
          "base_uri": "https://localhost:8080/"
        },
        "id": "OUdcnp1cM2eJ",
        "outputId": "4a052768-5ded-453a-e8ba-ab07588ced49"
      },
      "execution_count": null,
      "outputs": [
        {
          "output_type": "stream",
          "name": "stdout",
          "text": [
            "        1 \n",
            "      1 2 \n",
            "    1 2 3 \n",
            "  1 2 3 4 \n",
            "1 2 3 4 5 \n"
          ]
        }
      ]
    },
    {
      "cell_type": "markdown",
      "source": [
        "# Task - 5"
      ],
      "metadata": {
        "id": "yxedb4SxM3gC"
      }
    },
    {
      "cell_type": "code",
      "source": [
        "class FinalQ:\n",
        "    def print(self,array,idx):\n",
        "        if(idx<len(array)):\n",
        "            profit = self.calcProfit(array[idx])\n",
        "            print(f\"{idx+1}. Investment: {array[idx]}; Profit: {profit}\")\n",
        "            self.print(array, idx+1)\n",
        "\n",
        "    def calcProfit(self,investment):\n",
        "        if investment <= 25000:\n",
        "            return 0\n",
        "        elif 25000 < investment <= 100000:\n",
        "            return 45.0 + self.calcProfit(investment - 1000)\n",
        "        elif investment > 100000:\n",
        "            return 80.0 + self.calcProfit(investment - 1000)\n",
        "\n",
        "#Tester\n",
        "array=[25000,100000,250000,350000]\n",
        "f = FinalQ()\n",
        "f.print(array,0)"
      ],
      "metadata": {
        "colab": {
          "base_uri": "https://localhost:8080/"
        },
        "id": "7PPmiJBUM9DC",
        "outputId": "83cb029d-4ebf-4b68-c401-3cbd55d7cffa"
      },
      "execution_count": null,
      "outputs": [
        {
          "output_type": "stream",
          "name": "stdout",
          "text": [
            "1. Investment: 25000; Profit: 0\n",
            "2. Investment: 100000; Profit: 3375.0\n",
            "3. Investment: 250000; Profit: 15375.0\n",
            "4. Investment: 350000; Profit: 23375.0\n"
          ]
        }
      ]
    },
    {
      "cell_type": "markdown",
      "source": [
        "# Updated New Task"
      ],
      "metadata": {
        "id": "h_7kteMpM__-"
      }
    },
    {
      "cell_type": "markdown",
      "source": [
        "# Task - 01"
      ],
      "metadata": {
        "id": "VsJ7n-RkNAvp"
      }
    },
    {
      "cell_type": "code",
      "source": [
        "# Using array (Python’s built-in list)\n",
        "def flattenList(given_list, output_list):\n",
        "    if len(given_list) == 0:\n",
        "        return None\n",
        "    elif type(given_list[0]) == list:\n",
        "        flattenList(given_list[0], output_list)\n",
        "        flattenList(given_list[1:], output_list)\n",
        "    else:\n",
        "        output_list.append(given_list[0])\n",
        "        flattenList(given_list[1:], output_list)\n",
        "    return output_list\n",
        "\n",
        "#print(flattenList([1, [2, [3, [4], 5], 6], 7, 8, [9, [[10, 11], 12], 13], 14, [15, [16, [17]]]]))\n",
        "given_list = [1, [2, [3, [4], 5], 6], 7, 8, [9, [[10, 11], 12], 13], 14, [15, [16, [17]]]]\n",
        "output_list = flattenList(given_list, [])\n",
        "print(output_list)"
      ],
      "metadata": {
        "colab": {
          "base_uri": "https://localhost:8080/"
        },
        "id": "E8_Xb6y6NDnu",
        "outputId": "f4174d21-a53f-4e08-fe02-763bde0cc780"
      },
      "execution_count": null,
      "outputs": [
        {
          "output_type": "stream",
          "name": "stdout",
          "text": [
            "[1, 2, 3, 4, 5, 6, 7, 8, 9, 10, 11, 12, 13, 14, 15, 16, 17]\n"
          ]
        }
      ]
    },
    {
      "cell_type": "code",
      "source": [
        "# Using Singly Linked List\n",
        "class Node:\n",
        "    def __init__(self, next=None, bottom=None, val=0):\n",
        "        self.next = next # for next item\n",
        "        self.bottom = bottom # for nested item check\n",
        "        self.val = val # The integer value\n",
        "\n",
        "def build_linked_list(pylist):\n",
        "    if not pylist:\n",
        "        return None\n",
        "    if type(pylist[0]) == list:\n",
        "        head = Node(bottom=build_linked_list(pylist[0]))\n",
        "    else:\n",
        "        head = Node(val=pylist[0])\n",
        "    head.next = build_linked_list(pylist[1:])\n",
        "    return head\n",
        "\n",
        "def flattenLinkedList(node, output_list):\n",
        "    if node is None:\n",
        "        return output_list\n",
        "    if node.bottom:\n",
        "        flattenLinkedList(node.bottom, output_list)\n",
        "    if node.val != 0 or node.bottom is None:  # include zero\n",
        "        output_list.append(node.val)\n",
        "    flattenLinkedList(node.next, output_list)\n",
        "    return output_list\n",
        "\n",
        "given_list = [1, [2, [3, [4], 5], 6], 7, 8, [9, [[10, 11], 12], 13], 14, [15, [16, [17]]]]\n",
        "head = build_linked_list(given_list)\n",
        "output = flattenLinkedList(head, [])\n",
        "print(output)"
      ],
      "metadata": {
        "colab": {
          "base_uri": "https://localhost:8080/"
        },
        "id": "jnp0bjxGubQZ",
        "outputId": "2d243916-6247-4832-db23-ab9d8a159adc"
      },
      "execution_count": null,
      "outputs": [
        {
          "output_type": "stream",
          "name": "stdout",
          "text": [
            "[1, 2, 3, 4, 5, 6, 7, 8, 9, 10, 11, 12, 13, 14, 15, 16, 17]\n"
          ]
        }
      ]
    }
  ]
}