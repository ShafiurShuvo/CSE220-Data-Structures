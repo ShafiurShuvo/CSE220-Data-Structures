{
  "nbformat": 4,
  "nbformat_minor": 0,
  "metadata": {
    "colab": {
      "provenance": []
    },
    "kernelspec": {
      "name": "python3",
      "display_name": "Python 3"
    },
    "language_info": {
      "name": "python"
    }
  },
  "cells": [
    {
      "cell_type": "markdown",
      "source": [
        "# Task 1"
      ],
      "metadata": {
        "id": "FM34Q5TJLBxe"
      }
    },
    {
      "cell_type": "markdown",
      "source": [
        "a)"
      ],
      "metadata": {
        "id": "9BDir2KTLB-a"
      }
    },
    {
      "cell_type": "code",
      "execution_count": null,
      "metadata": {
        "colab": {
          "base_uri": "https://localhost:8080/"
        },
        "id": "YtNudzQ7Kk-q",
        "outputId": "fc2b839b-b932-42a3-c9b5-b83b8d3169c2"
      },
      "outputs": [
        {
          "output_type": "execute_result",
          "data": {
            "text/plain": [
              "24"
            ]
          },
          "metadata": {},
          "execution_count": 5
        }
      ],
      "source": [
        "def factorial(n):\n",
        "    if n > 1:\n",
        "        return n * factorial(n-1)\n",
        "    return 1\n",
        "\n",
        "factorial(4)"
      ]
    },
    {
      "cell_type": "markdown",
      "source": [
        "b)"
      ],
      "metadata": {
        "id": "vVkfQRtLLCBH"
      }
    },
    {
      "cell_type": "code",
      "source": [
        "def fibonacci(n):\n",
        "    if n > 1:\n",
        "        return fibonacci(n-1) + fibonacci(n-2)\n",
        "    return n\n",
        "\n",
        "fibonacci(7)\n",
        "\n",
        "# for i in range(12):\n",
        "#     print(fibonacci(i), end=' ')"
      ],
      "metadata": {
        "colab": {
          "base_uri": "https://localhost:8080/"
        },
        "id": "8T7yAoUtLTND",
        "outputId": "619989cb-3546-461a-9839-9df8cdc64b21"
      },
      "execution_count": null,
      "outputs": [
        {
          "output_type": "execute_result",
          "data": {
            "text/plain": [
              "13"
            ]
          },
          "metadata": {},
          "execution_count": 13
        }
      ]
    },
    {
      "cell_type": "markdown",
      "source": [
        "c)"
      ],
      "metadata": {
        "id": "HmjbvJlzLCEX"
      }
    },
    {
      "cell_type": "code",
      "source": [
        "def array(arr, idx):\n",
        "    if idx < len(arr):\n",
        "        if idx == len(arr)-1:\n",
        "            print(arr[idx])\n",
        "        else:\n",
        "            print(arr[idx], end=\", \")\n",
        "        return array(arr, idx + 1)\n",
        "array([0,1,2,3,4,5,6,7,8], 0)"
      ],
      "metadata": {
        "colab": {
          "base_uri": "https://localhost:8080/"
        },
        "id": "IwWeRnWiLTR_",
        "outputId": "0f6de056-f127-4cb1-ca7c-622eeaf286ba"
      },
      "execution_count": null,
      "outputs": [
        {
          "output_type": "stream",
          "name": "stdout",
          "text": [
            "0, 1, 2, 3, 4, 5, 6, 7, 8\n"
          ]
        }
      ]
    },
    {
      "cell_type": "markdown",
      "source": [
        "d)"
      ],
      "metadata": {
        "id": "Iwkl1GamLH5B"
      }
    },
    {
      "cell_type": "code",
      "source": [
        "def powerN(base, n):\n",
        "    if n == 0:\n",
        "        return 1\n",
        "    else:\n",
        "        return base * powerN(base, n-1)\n",
        "powerN(3, 3)"
      ],
      "metadata": {
        "colab": {
          "base_uri": "https://localhost:8080/"
        },
        "id": "N7d1v7eALTPV",
        "outputId": "6ed0f8e3-90f2-4b15-94fc-084fb42d9a2b"
      },
      "execution_count": null,
      "outputs": [
        {
          "output_type": "execute_result",
          "data": {
            "text/plain": [
              "27"
            ]
          },
          "metadata": {},
          "execution_count": 16
        }
      ]
    },
    {
      "cell_type": "markdown",
      "source": [
        "# Task 2"
      ],
      "metadata": {
        "id": "a0wKt4s6LqsT"
      }
    },
    {
      "cell_type": "markdown",
      "source": [
        "a)"
      ],
      "metadata": {
        "id": "TDF5l7aPLzMm"
      }
    },
    {
      "cell_type": "code",
      "source": [
        "def dec_to_bin(num):\n",
        "    if num > 1:\n",
        "        a = num // 2\n",
        "        dec_to_bin(a)\n",
        "\n",
        "    print(num % 2, end = \"\")\n",
        "\n",
        "dec_to_bin(255)"
      ],
      "metadata": {
        "colab": {
          "base_uri": "https://localhost:8080/"
        },
        "id": "JHIOAG_mLTVW",
        "outputId": "68e5f71c-c704-42ff-b2f1-059d1d10a64a"
      },
      "execution_count": null,
      "outputs": [
        {
          "output_type": "stream",
          "name": "stdout",
          "text": [
            "11111111"
          ]
        }
      ]
    },
    {
      "cell_type": "markdown",
      "source": [
        "Linked List Creation:"
      ],
      "metadata": {
        "id": "BFDttok0MjXn"
      }
    },
    {
      "cell_type": "code",
      "source": [
        "class Node:\n",
        "  def __init__(self, e, n):\n",
        "    self.element = e\n",
        "    self.next = n"
      ],
      "metadata": {
        "id": "3Z8yoXd-L4da"
      },
      "execution_count": null,
      "outputs": []
    },
    {
      "cell_type": "code",
      "source": [
        "class LinkedList:\n",
        "\n",
        "  def __init__(self, a):\n",
        "    self.head = None\n",
        "    if type(a) == list:\n",
        "        self.head = Node(a[0], None)\n",
        "        tail = self.head\n",
        "        for i in range(1, len(a)):\n",
        "            n = Node(a[i], None)\n",
        "            tail.next = n\n",
        "            tail = tail.next\n",
        "    else:\n",
        "        self.head = a\n",
        "\n",
        "  def getHead(self):\n",
        "    return self.head"
      ],
      "metadata": {
        "id": "AsSusBAlL44Z"
      },
      "execution_count": null,
      "outputs": []
    },
    {
      "cell_type": "code",
      "source": [
        "ll1= LinkedList([5,10,15,-5,12])\n",
        "head= ll1.getHead()"
      ],
      "metadata": {
        "id": "tcJDWAh-L4l7"
      },
      "execution_count": null,
      "outputs": []
    },
    {
      "cell_type": "markdown",
      "source": [
        "b)"
      ],
      "metadata": {
        "id": "u9xNucGKL1ka"
      }
    },
    {
      "cell_type": "code",
      "source": [
        "def add_elem_of_linked_list(head):\n",
        "    if head == None:\n",
        "        return 0\n",
        "    else:\n",
        "        return head.element + add_elem_of_linked_list(head.next)\n",
        "add_elem_of_linked_list(head)"
      ],
      "metadata": {
        "colab": {
          "base_uri": "https://localhost:8080/"
        },
        "id": "osHUbF2RL4ik",
        "outputId": "638b4bc6-8408-41c5-a124-10211d432b73"
      },
      "execution_count": null,
      "outputs": [
        {
          "output_type": "execute_result",
          "data": {
            "text/plain": [
              "37"
            ]
          },
          "metadata": {},
          "execution_count": 35
        }
      ]
    },
    {
      "cell_type": "markdown",
      "source": [
        "c)"
      ],
      "metadata": {
        "id": "fyJZ4pHNMOhE"
      }
    },
    {
      "cell_type": "code",
      "source": [
        "def ReverseListPrint(head):\n",
        "  if head!=None:\n",
        "    ReverseListPrint(head.next)\n",
        "    print(head.element)\n",
        "\n",
        "ReverseListPrint(head)"
      ],
      "metadata": {
        "colab": {
          "base_uri": "https://localhost:8080/"
        },
        "id": "k9qGu6hGMQGS",
        "outputId": "76e322b1-78ae-4942-8297-9c852ad70f6a"
      },
      "execution_count": null,
      "outputs": [
        {
          "output_type": "stream",
          "name": "stdout",
          "text": [
            "12\n",
            "-5\n",
            "15\n",
            "10\n",
            "5\n"
          ]
        }
      ]
    },
    {
      "cell_type": "markdown",
      "source": [
        "# Task - 3"
      ],
      "metadata": {
        "id": "uzalpnfXMrKz"
      }
    },
    {
      "cell_type": "code",
      "source": [
        "def hocBuilder(height):\n",
        "    if height == 0:\n",
        "        return 0\n",
        "    elif height == 1:\n",
        "        return 8\n",
        "    else:\n",
        "        return 5 + hocBuilder(height - 1)\n",
        "\n",
        "hocBuilder(4)"
      ],
      "metadata": {
        "colab": {
          "base_uri": "https://localhost:8080/"
        },
        "id": "bU6-0ZUxMs7o",
        "outputId": "fea1e604-729c-4133-bca1-e1b1333b9bfc"
      },
      "execution_count": null,
      "outputs": [
        {
          "output_type": "execute_result",
          "data": {
            "text/plain": [
              "23"
            ]
          },
          "metadata": {},
          "execution_count": 41
        }
      ]
    },
    {
      "cell_type": "markdown",
      "source": [
        "# Task - 4"
      ],
      "metadata": {
        "id": "ngYr2K0dMt5y"
      }
    },
    {
      "cell_type": "markdown",
      "source": [
        "a)"
      ],
      "metadata": {
        "id": "lcH_GehrMy4f"
      }
    },
    {
      "cell_type": "code",
      "source": [
        "def pattern(n, counter):\n",
        "    if counter != n:\n",
        "        def printnumbers(n, counter, number=0):\n",
        "            if number == counter + 1:\n",
        "                print()\n",
        "                return\n",
        "            else:\n",
        "                print(number + 1, end=\" \")\n",
        "                printnumbers(n, counter, number + 1)\n",
        "\n",
        "        printnumbers(n, counter)\n",
        "        pattern(n, counter + 1)\n",
        "    return\n",
        "\n",
        "pattern(5,0)"
      ],
      "metadata": {
        "colab": {
          "base_uri": "https://localhost:8080/"
        },
        "id": "-hcBJgsFMwE_",
        "outputId": "8417130a-568f-43e4-8b08-943c6d289097"
      },
      "execution_count": 2,
      "outputs": [
        {
          "output_type": "stream",
          "name": "stdout",
          "text": [
            "1 \n",
            "1 2 \n",
            "1 2 3 \n",
            "1 2 3 4 \n",
            "1 2 3 4 5 \n"
          ]
        }
      ]
    },
    {
      "cell_type": "markdown",
      "source": [
        "b)"
      ],
      "metadata": {
        "id": "601l_M4dMztW"
      }
    },
    {
      "cell_type": "code",
      "source": [
        "def pattern(n, counter):\n",
        "    if counter == None:\n",
        "        counter = n\n",
        "    if n > 0:\n",
        "        def printspaces(number, count=1):\n",
        "            if count < number:\n",
        "                print(\" \", end=\" \")\n",
        "                printspaces(number, count + 1)\n",
        "\n",
        "        def printnumbers(number, count=1):\n",
        "            if count < number + 1:\n",
        "                print(count, end=\" \")\n",
        "                printnumbers(number, count + 1)\n",
        "\n",
        "        printspaces(n)\n",
        "        printnumbers(counter - n + 1)\n",
        "        print()\n",
        "        pattern(n - 1, counter)\n",
        "pattern(5,5)"
      ],
      "metadata": {
        "colab": {
          "base_uri": "https://localhost:8080/"
        },
        "id": "OUdcnp1cM2eJ",
        "outputId": "76aef114-8e02-41a8-cff0-1501a41b00a3"
      },
      "execution_count": null,
      "outputs": [
        {
          "output_type": "stream",
          "name": "stdout",
          "text": [
            "        1 \n",
            "      1 2 \n",
            "    1 2 3 \n",
            "  1 2 3 4 \n",
            "1 2 3 4 5 \n"
          ]
        }
      ]
    },
    {
      "cell_type": "markdown",
      "source": [
        "# Task - 5"
      ],
      "metadata": {
        "id": "yxedb4SxM3gC"
      }
    },
    {
      "cell_type": "code",
      "source": [
        "class FinalQ:\n",
        "    def print(self,array,idx):\n",
        "        if(idx<len(array)):\n",
        "            profit = self.calcProfit(array[idx])\n",
        "            print(f\"{idx+1}. Investment: {array[idx]}; Profit: {profit}\")\n",
        "            self.print(array, idx+1)\n",
        "\n",
        "    def calcProfit(self,investment):\n",
        "        if investment <= 25000:\n",
        "            return 0\n",
        "        elif 25000 < investment <= 100000:\n",
        "            return 45.0 + self.calcProfit(investment - 1000)\n",
        "        elif investment > 100000:\n",
        "            return 80.0 + self.calcProfit(investment - 1000)\n",
        "\n",
        "#Tester\n",
        "array=[25000,100000,250000,350000]\n",
        "f = FinalQ()\n",
        "f.print(array,0)"
      ],
      "metadata": {
        "colab": {
          "base_uri": "https://localhost:8080/"
        },
        "id": "7PPmiJBUM9DC",
        "outputId": "9a407c8e-ede5-413a-87a6-eff34e8ac589"
      },
      "execution_count": null,
      "outputs": [
        {
          "output_type": "stream",
          "name": "stdout",
          "text": [
            "1. Investment: 25000; Profit: 0\n",
            "2. Investment: 100000; Profit: 3375.0\n",
            "3. Investment: 250000; Profit: 15375.0\n",
            "4. Investment: 350000; Profit: 23375.0\n"
          ]
        }
      ]
    },
    {
      "cell_type": "markdown",
      "source": [
        "# Updated New Task"
      ],
      "metadata": {
        "id": "h_7kteMpM__-"
      }
    },
    {
      "cell_type": "markdown",
      "source": [
        "# Task - 01"
      ],
      "metadata": {
        "id": "VsJ7n-RkNAvp"
      }
    },
    {
      "cell_type": "code",
      "source": [
        "def flattenList(given_list, output_list):\n",
        "    if len(given_list) == 0:\n",
        "        return None\n",
        "    elif type(given_list[0]) == list:\n",
        "        flattenList(given_list[0], output_list)\n",
        "        flattenList(given_list[1:], output_list)\n",
        "    else:\n",
        "        output_list.append(given_list[0])\n",
        "        flattenList(given_list[1:], output_list)\n",
        "    return output_list\n",
        "\n",
        "#print(flattenList([1, [2, [3, [4], 5], 6], 7, 8, [9, [[10, 11], 12], 13], 14, [15, [16, [17]]]]))\n",
        "given_list = [1, [2, [3, [4], 5], 6], 7, 8, [9, [[10, 11], 12], 13], 14, [15, [16, [17]]]]\n",
        "output_list = flattenList(given_list, [])\n",
        "print(output_list)"
      ],
      "metadata": {
        "colab": {
          "base_uri": "https://localhost:8080/"
        },
        "id": "E8_Xb6y6NDnu",
        "outputId": "2d2b3287-9813-4d67-8778-24fd9bc7ada3"
      },
      "execution_count": null,
      "outputs": [
        {
          "output_type": "stream",
          "name": "stdout",
          "text": [
            "[1, 2, 3, 4, 5, 6, 7, 8, 9, 10, 11, 12, 13, 14, 15, 16, 17]\n"
          ]
        }
      ]
    }
  ]
}