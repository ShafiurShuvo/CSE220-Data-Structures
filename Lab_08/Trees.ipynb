{
  "nbformat": 4,
  "nbformat_minor": 0,
  "metadata": {
    "colab": {
      "provenance": []
    },
    "kernelspec": {
      "name": "python3",
      "display_name": "Python 3"
    },
    "language_info": {
      "name": "python"
    }
  },
  "cells": [
    {
      "cell_type": "code",
      "source": [
        "# Inserting Children\n",
        "class Node:\n",
        "    def __init__(self, elem):\n",
        "        self.elem = elem\n",
        "        self.children = []\n",
        "\n",
        "root = Node(1)\n",
        "root.children += [Node(2)]\n",
        "root.children += [Node(3)]\n",
        "root.children += [Node(4)]\n",
        "root.children[0].children += [Node(5)]\n",
        "root.children[0].children += [Node(6)]\n",
        "root.children[1].children += [Node(7)]"
      ],
      "metadata": {
        "id": "avtxkHvppAuf"
      },
      "execution_count": 126,
      "outputs": []
    },
    {
      "cell_type": "code",
      "source": [
        "class Node:\n",
        "    def __init__(self, elem):\n",
        "        self.elem = elem\n",
        "        self.left = self.right = None"
      ],
      "metadata": {
        "id": "X7ZTqcR5CF9-"
      },
      "execution_count": 127,
      "outputs": []
    },
    {
      "cell_type": "code",
      "source": [
        "# Binary Tree from Array\n",
        "def tree_construction(arr, i, n):\n",
        "    root = None\n",
        "    if i < n:\n",
        "        if arr[i] != None:\n",
        "            root = Node(arr[i])\n",
        "            root.left = tree_construction(arr, 2*i, n)\n",
        "            root.right = tree_construction(arr, 2*i + 1, n)\n",
        "    return root\n",
        "\n",
        "def print_inOrder(root):\n",
        "    if root != None:\n",
        "        print_inOrder(root.left)\n",
        "        print(root.elem, end=\" \")\n",
        "        print_inOrder(root.right)\n",
        "\n",
        "array_rep = [None, \"A\", \"B\", \"C\", \"D\", \"E\", \"F\", \"G\", \"H\", None, None, None, \"I\", \"J\", None, \"K\"]\n",
        "root = tree_construction(array_rep, 1, len(array_rep))\n",
        "print_inOrder(root)"
      ],
      "metadata": {
        "colab": {
          "base_uri": "https://localhost:8080/"
        },
        "id": "JRyic3QiHIjs",
        "outputId": "4a101ed6-51f2-45e3-eaa9-8565e2a362cb"
      },
      "execution_count": 128,
      "outputs": [
        {
          "output_type": "stream",
          "name": "stdout",
          "text": [
            "H D B E A I F J C G K "
          ]
        }
      ]
    },
    {
      "cell_type": "markdown",
      "source": [
        "             A\n",
        "           /   \\\n",
        "          /     \\\n",
        "         B       C\n",
        "        / \\     / \\\n",
        "       D   E   F   G\n",
        "      /       / \\   \\\n",
        "     H       I   J   K"
      ],
      "metadata": {
        "id": "_CKFH4foslP2"
      }
    },
    {
      "cell_type": "code",
      "source": [
        "# Array from Binary Tree\n",
        "array_rep = [None] * 16  # Root height is 3 so total length = (3+1)**2\n",
        "\n",
        "def array_construction(n,i):\n",
        "    if n == None:\n",
        "        return None\n",
        "    else:\n",
        "        array_rep[i] = n.elem\n",
        "        array_construction(n.left, 2*i)\n",
        "        array_construction(n.right, 2*i+1)\n",
        "\n",
        "array_construction(root,1)\n",
        "print(\"Tree:\", array_rep)"
      ],
      "metadata": {
        "colab": {
          "base_uri": "https://localhost:8080/"
        },
        "id": "ZgM9yyghV6VU",
        "outputId": "9f13bf82-5ee9-4b2b-f899-0f3f79a637f0"
      },
      "execution_count": 129,
      "outputs": [
        {
          "output_type": "stream",
          "name": "stdout",
          "text": [
            "Tree: [None, 'A', 'B', 'C', 'D', 'E', 'F', 'G', 'H', None, None, None, 'I', 'J', None, 'K']\n"
          ]
        }
      ]
    },
    {
      "cell_type": "code",
      "source": [
        "# count the number of levels\n",
        "def get_level(root, level, elem):\n",
        "    if root == None:\n",
        "        return 0\n",
        "    if root.elem == elem:\n",
        "        return level\n",
        "    down_level = get_level(root.left, level + 1, elem)\n",
        "    if down_level != 0:\n",
        "        return down_level\n",
        "    down_level = get_level(root.right, level + 1, elem)\n",
        "    return down_level\n",
        "\n",
        "print(\"Number of Levels:\",get_level(root,0,4))"
      ],
      "metadata": {
        "colab": {
          "base_uri": "https://localhost:8080/"
        },
        "id": "Cgp0CW93ozYn",
        "outputId": "66bbcbc0-9288-4af2-bb20-4945887dc114"
      },
      "execution_count": 130,
      "outputs": [
        {
          "output_type": "stream",
          "name": "stdout",
          "text": [
            "Number of Levels: 0\n"
          ]
        }
      ]
    },
    {
      "cell_type": "code",
      "source": [
        "# count height of the Binary Tree\n",
        "def get_height(root):\n",
        "    if root == None:\n",
        "        return -1\n",
        "    else:\n",
        "        left_height = get_height(root.left)\n",
        "        right_height = get_height(root.right)\n",
        "\n",
        "        return max(left_height, right_height) + 1\n",
        "\n",
        "print(\"Height:\",get_height(root))"
      ],
      "metadata": {
        "colab": {
          "base_uri": "https://localhost:8080/"
        },
        "id": "BgIFbqx0P3U5",
        "outputId": "b4bd1c64-81f2-4286-a947-9f5f7a6d5956"
      },
      "execution_count": 131,
      "outputs": [
        {
          "output_type": "stream",
          "name": "stdout",
          "text": [
            "Height: 3\n"
          ]
        }
      ]
    },
    {
      "cell_type": "code",
      "source": [
        "# depth\n",
        "def calculate_depth(node):\n",
        "    d = -1\n",
        "    while node != None:\n",
        "        d += 1\n",
        "        node = node.left\n",
        "    return d\n",
        "\n",
        "print(\"Depth:\",calculate_depth(root))"
      ],
      "metadata": {
        "colab": {
          "base_uri": "https://localhost:8080/"
        },
        "id": "w1XUa5q8hEwS",
        "outputId": "770382c0-f6b9-440d-9ecc-b7f8f6ef96e7"
      },
      "execution_count": 132,
      "outputs": [
        {
          "output_type": "stream",
          "name": "stdout",
          "text": [
            "Depth: 3\n"
          ]
        }
      ]
    },
    {
      "cell_type": "code",
      "source": [
        "# count node\n",
        "def count_nodes(root):\n",
        "    if root == None:\n",
        "        return 0\n",
        "    return 1 + count_nodes(root.left) + count_nodes(root.right)\n",
        "\n",
        "print(\"Number of Nodes:\",count_nodes(root))"
      ],
      "metadata": {
        "colab": {
          "base_uri": "https://localhost:8080/"
        },
        "id": "ybL7zixTOPWW",
        "outputId": "9e2873b1-3bb8-44ba-a991-3dc99a85ca23"
      },
      "execution_count": 133,
      "outputs": [
        {
          "output_type": "stream",
          "name": "stdout",
          "text": [
            "Number of Nodes: 11\n"
          ]
        }
      ]
    },
    {
      "cell_type": "code",
      "source": [
        "# check if the tree is a complete binary tree\n",
        "def count_nodes(root):\n",
        "    if root == None:\n",
        "        return 0\n",
        "    return 1 + count_nodes(root.left) + count_nodes(root.right)\n",
        "\n",
        "def is_complete(root, index, numberNodes):\n",
        "    if root == None:\n",
        "        return True\n",
        "    if index >= numberNodes:\n",
        "        return False\n",
        "    return is_complete(root.left, 2*index + 1, numberNodes) and is_complete(root.right, 2*index + 1, numberNodes)\n",
        "\n",
        "if is_complete(root, 0, count_nodes(root)):\n",
        "    print(\"Complete binary tree\")\n",
        "else:\n",
        "    print(\"Not a complete binary tree\")"
      ],
      "metadata": {
        "colab": {
          "base_uri": "https://localhost:8080/"
        },
        "id": "Dzs22poUjc6m",
        "outputId": "19cd7d2f-5ddd-4038-cd84-e51435930c90"
      },
      "execution_count": 134,
      "outputs": [
        {
          "output_type": "stream",
          "name": "stdout",
          "text": [
            "Complete binary tree\n"
          ]
        }
      ]
    },
    {
      "cell_type": "code",
      "source": [
        "# check if the tree is a full binary tree\n",
        "def isFullTree(root):\n",
        "    if root == None:\n",
        "        return True\n",
        "    if root.left == None and root.rignt == None:\n",
        "        return True\n",
        "    if root.left != None and root.right != None:\n",
        "        return isFullTree(root.left) and isFullTree(root.right)\n",
        "\n",
        "    return False\n",
        "\n",
        "if isFullTree(root):\n",
        "    print(\"Full binary tree\")\n",
        "else:\n",
        "    print(\"Not a full binary tree\")"
      ],
      "metadata": {
        "colab": {
          "base_uri": "https://localhost:8080/"
        },
        "id": "lMZlwNZlk3yB",
        "outputId": "ec981fc5-1caf-4a6a-dd8c-ec1d3ad64d1f"
      },
      "execution_count": 135,
      "outputs": [
        {
          "output_type": "stream",
          "name": "stdout",
          "text": [
            "Not a full binary tree\n"
          ]
        }
      ]
    },
    {
      "cell_type": "code",
      "source": [
        "# check if the tree is a perfect binary tree\n",
        "def calculate_depth(node):\n",
        "    d = -1\n",
        "    while node != None:\n",
        "        d += 1\n",
        "        node = node.left\n",
        "    return d\n",
        "\n",
        "def is_perfect(root, d, level = 0):\n",
        "    if root == None:\n",
        "        return True\n",
        "    if root.left == None and root.right == None:\n",
        "        return (d == level + 1)\n",
        "    if root.left == None or root.right == None:\n",
        "        return False\n",
        "\n",
        "    return is_perfect(root.left, d, level + 1) and is_perfect(root.right, d, level + 1)\n",
        "\n",
        "if is_perfect(root, calculate_depth(root)):\n",
        "    print(\"Perfect binary tree\")\n",
        "else:\n",
        "    print(\"Not a perfect binary tree\")"
      ],
      "metadata": {
        "colab": {
          "base_uri": "https://localhost:8080/"
        },
        "id": "trleLUm3nBDp",
        "outputId": "6793a9bb-3cf0-41ec-eff7-5c54f5371af2"
      },
      "execution_count": 136,
      "outputs": [
        {
          "output_type": "stream",
          "name": "stdout",
          "text": [
            "Not a perfect binary tree\n"
          ]
        }
      ]
    },
    {
      "cell_type": "code",
      "execution_count": 137,
      "metadata": {
        "id": "43pv3vGGbatD",
        "colab": {
          "base_uri": "https://localhost:8080/"
        },
        "outputId": "c75dd8ad-b832-437d-cd98-e33b26a882eb"
      },
      "outputs": [
        {
          "output_type": "stream",
          "name": "stdout",
          "text": [
            "20-->40-->50-->60-->70-->75-->80-->85-->90-->95-->99-->\n",
            "20-->40-->50-->55-->60-->70-->75-->80-->85-->90-->95-->99-->"
          ]
        }
      ],
      "source": [
        "#Creating a Binary Search Tree (BST):\n",
        "class Node:\n",
        "    def __init__(self, elem):\n",
        "        self.elem = elem\n",
        "        self.left = None\n",
        "        self.right = None\n",
        "\n",
        "def addNode(root, i):  #Adding Nodes\n",
        "    if i<root.elem and root.left==None:\n",
        "        n = Node(i)\n",
        "        root.left = n\n",
        "    elif i>root.elem and root.right==None:\n",
        "         n = Node(i)\n",
        "         root.right = n\n",
        "\n",
        "    if i<root.elem and root.left!=None:\n",
        "        addNode(root.left, i)\n",
        "    elif i>root.elem and root.right!=None:\n",
        "        addNode(root.right, i)\n",
        "\n",
        "def in_order(n):  # To check the BST\n",
        "    if n != None:\n",
        "        in_order(n.left)\n",
        "        print(n.elem, end=\"-->\")\n",
        "        in_order(n.right)\n",
        "\n",
        "l1 = [70, 50, 40, 90, 20, 60, 20, 95, 99, 80, 85, 75]\n",
        "root = Node(l1[0])\n",
        "for i in l1[1:]:\n",
        "    addNode(root, i)\n",
        "in_order(root)\n",
        "print()\n",
        "addNode(root, 55)\n",
        "in_order(root)"
      ]
    },
    {
      "cell_type": "markdown",
      "source": [
        "            70\n",
        "          /    \\\n",
        "         /      \\\n",
        "        50      90\n",
        "       /   \\   /  \\\n",
        "      40   60 80   95\n",
        "      /    /  / \\    \\\n",
        "     20  55  75 85    99"
      ],
      "metadata": {
        "id": "s7cR5wJB6Ipy"
      }
    },
    {
      "cell_type": "code",
      "source": [
        "def pre_order(n):\n",
        "    if n!= None:\n",
        "        print(n.elem, end=\"--> \")\n",
        "        pre_order(n.left)\n",
        "        pre_order(n.right)\n",
        "pre_order(root)"
      ],
      "metadata": {
        "colab": {
          "base_uri": "https://localhost:8080/"
        },
        "id": "6VY62v6a4B3K",
        "outputId": "48ab301b-2ea6-4365-f730-d67b17825f86"
      },
      "execution_count": 138,
      "outputs": [
        {
          "output_type": "stream",
          "name": "stdout",
          "text": [
            "70--> 50--> 40--> 20--> 60--> 55--> 90--> 80--> 75--> 85--> 95--> 99--> "
          ]
        }
      ]
    },
    {
      "cell_type": "code",
      "source": [
        "def in_order(n):\n",
        "    if n!= None:\n",
        "        in_order(n.left)\n",
        "        print(n.elem, end=\"--> \")\n",
        "        in_order(n.right)\n",
        "in_order(root)"
      ],
      "metadata": {
        "colab": {
          "base_uri": "https://localhost:8080/"
        },
        "id": "252yQFlF4WSQ",
        "outputId": "3dd3dbf7-af52-40dd-aebd-c88223228dc9"
      },
      "execution_count": 139,
      "outputs": [
        {
          "output_type": "stream",
          "name": "stdout",
          "text": [
            "20--> 40--> 50--> 55--> 60--> 70--> 75--> 80--> 85--> 90--> 95--> 99--> "
          ]
        }
      ]
    },
    {
      "cell_type": "code",
      "source": [
        "def post_order(n):\n",
        "    if n!= None:\n",
        "        post_order(n.left)\n",
        "        post_order(n.right)\n",
        "        print(n.elem, end=\"--> \")\n",
        "post_order(root)"
      ],
      "metadata": {
        "colab": {
          "base_uri": "https://localhost:8080/"
        },
        "id": "USSFw-ns4cnK",
        "outputId": "87dac220-8138-4c34-f47a-12a7e1e6c863"
      },
      "execution_count": 140,
      "outputs": [
        {
          "output_type": "stream",
          "name": "stdout",
          "text": [
            "20--> 40--> 55--> 60--> 50--> 75--> 85--> 80--> 99--> 95--> 90--> 70--> "
          ]
        }
      ]
    },
    {
      "cell_type": "code",
      "source": [
        "def search(root, item):\n",
        "    if root == None:\n",
        "        return None\n",
        "    if root.elem == item:\n",
        "        return root\n",
        "    if root.elem > item:\n",
        "        if root.left != None:\n",
        "            return search(root.left, item)\n",
        "        else:\n",
        "            return None\n",
        "    elif root.elem < item:\n",
        "        if root.right != None:\n",
        "            return search(root.right, item)\n",
        "        else:\n",
        "            return None\n",
        "    return search(root.left, item)\n",
        "\n",
        "x = search(root, 70)\n",
        "if x == None:\n",
        "    print(\"Not found\")\n",
        "else:\n",
        "    print(\"Found\")"
      ],
      "metadata": {
        "colab": {
          "base_uri": "https://localhost:8080/"
        },
        "id": "FTR7Jys64l78",
        "outputId": "c49971d1-7816-4dc5-a955-7010bd293c18"
      },
      "execution_count": 141,
      "outputs": [
        {
          "output_type": "stream",
          "name": "stdout",
          "text": [
            "Found\n"
          ]
        }
      ]
    },
    {
      "cell_type": "code",
      "source": [
        "def minValueNode(node):\n",
        "    current = node\n",
        "    while(current.left is not None):  # loop dpwn to find the leftmost leaf\n",
        "        current = current.left\n",
        "    return current\n",
        "\n",
        "# Given a binary search tree and a key, this function\n",
        "# deletes the key and returns the new root\n",
        "def deleteNode(root, key):\n",
        "    if root is None:\n",
        "        return root\n",
        "    if key < root.elem:\n",
        "        root.left = deleteNode(root.left, key)\n",
        "    elif key > root.elem:\n",
        "        root.right = deleteNode(root.right, key)\n",
        "\n",
        "    else:\n",
        "        # Node with only one child or no child\n",
        "        if root.left is None:\n",
        "            temp = root.right\n",
        "            root = None\n",
        "            return temp\n",
        "        elif root.right is None:\n",
        "            temp = root.left\n",
        "            root = None\n",
        "            return temp\n",
        "\n",
        "        # Node with two children\n",
        "        # Get the inorder successor (smallest in the right subtree)\n",
        "        temp = minValueNode(root.right)\n",
        "        # Copy the inorder successor's content to this node\n",
        "        root.elem = temp.elem\n",
        "        root.right = deleteNode(root.right, temp.elem)  # Delete the inorder successor\n",
        "\n",
        "    return root"
      ],
      "metadata": {
        "id": "ePfvCJuK5inV"
      },
      "execution_count": 142,
      "outputs": []
    },
    {
      "cell_type": "code",
      "source": [
        "print(\"Inorder traversal of the given tree\")\n",
        "in_order(root)\n",
        "print(\"\\nDelete 20\")\n",
        "root = deleteNode(root, 20)\n",
        "print(\"\\nInorder traversal of the modified tree\")\n",
        "in_order(root)\n",
        "print(\"\\nDelete 100\")\n",
        "root = deleteNode(root, 100)\n",
        "print(\"\\nInorder traversal of the modified tree\")\n",
        "in_order(root)\n",
        "print(\"\\nDelete 70\")\n",
        "root = deleteNode(root, 70)\n",
        "print(\"\\nInorder traversal of the modified tree\")\n",
        "in_order(root)"
      ],
      "metadata": {
        "colab": {
          "base_uri": "https://localhost:8080/"
        },
        "id": "KSx-SWX49G5Z",
        "outputId": "d1039a35-2170-4e34-c37d-9d6d9692f72a"
      },
      "execution_count": 143,
      "outputs": [
        {
          "output_type": "stream",
          "name": "stdout",
          "text": [
            "Inorder traversal of the given tree\n",
            "20--> 40--> 50--> 55--> 60--> 70--> 75--> 80--> 85--> 90--> 95--> 99--> \n",
            "Delete 20\n",
            "\n",
            "Inorder traversal of the modified tree\n",
            "40--> 50--> 55--> 60--> 70--> 75--> 80--> 85--> 90--> 95--> 99--> \n",
            "Delete 100\n",
            "\n",
            "Inorder traversal of the modified tree\n",
            "40--> 50--> 55--> 60--> 70--> 75--> 80--> 85--> 90--> 95--> 99--> \n",
            "Delete 70\n",
            "\n",
            "Inorder traversal of the modified tree\n",
            "40--> 50--> 55--> 60--> 75--> 80--> 85--> 90--> 95--> 99--> "
          ]
        }
      ]
    },
    {
      "cell_type": "markdown",
      "source": [
        "           70                             70                             70                          75\n",
        "          /  \\                           /  \\                           /  \\                        /  \\\n",
        "         /    \\                         /    \\                         /    \\                      /    \\\n",
        "        50    90                       50    90                       50    90                    50    90\n",
        "       /  \\   / \\     delete 20 -->   /  \\   / \\    delete 100 -->   /  \\   / \\   delete 70 -->  /  \\   / \\\n",
        "      40  60 80 95                  40   60 80 95                   40  60 80 95                40  60 80 95\n",
        "     /    /  / \\  \\                      /  / \\  \\                      /  / \\  \\                   /   \\   \\\n",
        "    20   55 75 85 99                    55 75 85  99                   55 75 85  99                55   85  99  "
      ],
      "metadata": {
        "id": "_em8BvDv9ciM"
      }
    },
    {
      "cell_type": "code",
      "source": [
        "#Creating a NEW Binary Tree from Array\n",
        "class Node:\n",
        "    def __init__(self, elem):\n",
        "        self.elem = elem\n",
        "        self.left = self.right = None\n",
        "\n",
        "def tree_construction(arr, i, n):\n",
        "    root = None\n",
        "    if i < n:\n",
        "        if arr[i] != None:\n",
        "            root = Node(arr[i])\n",
        "            root.left = tree_construction(arr, 2*i, n)\n",
        "            root.right = tree_construction(arr, 2*i + 1, n)\n",
        "    return root\n",
        "\n",
        "def print_inOrder(root):\n",
        "    if root != None:\n",
        "        print_inOrder(root.left)\n",
        "        print(root.elem, end=\"--> \")\n",
        "        print_inOrder(root.right)\n",
        "\n",
        "array_rep = [None, 40, None, 50, None, None, None, 70,\n",
        "             None, None, None, None, None, None, None, 90,\n",
        "             None, None, None, None, None, None, None, None,\n",
        "             None, None, None, None, None, None, None, 95,\n",
        "             None, None, None, None, None, None, None, None,\n",
        "             None, None, None, None, None, None, None, None,\n",
        "             None, None, None, None, None, None, None, None,\n",
        "             None, None, None, None, None, None, None, 99]\n",
        "root = tree_construction(array_rep, 1, len(array_rep))\n",
        "in_order(root)"
      ],
      "metadata": {
        "colab": {
          "base_uri": "https://localhost:8080/"
        },
        "id": "NZjjm1iXTUnp",
        "outputId": "d278d910-4123-4081-cd9c-d6e96680b5ef"
      },
      "execution_count": 144,
      "outputs": [
        {
          "output_type": "stream",
          "name": "stdout",
          "text": [
            "40--> 50--> 70--> 90--> 95--> 99--> "
          ]
        }
      ]
    },
    {
      "cell_type": "code",
      "source": [
        "#Appends into list with tree nodes using inorder traversal\n",
        "def pushTreeNodes(root, arr):\n",
        "    if root is None:\n",
        "        return\n",
        "\n",
        "    pushTreeNodes(root.left, arr)\n",
        "    arr.append(root)\n",
        "    pushTreeNodes(root.right, arr)\n",
        "\n",
        "def buildBalancesBST(arr, start, end):\n",
        "    if start > end:\n",
        "        return None\n",
        "\n",
        "    mid = (start + end) // 2\n",
        "    root = arr[mid]  # The root will be a node present ar the mid-index\n",
        "\n",
        "    root.left = buildBalancesBST(arr, start, mid - 1)\n",
        "    root.right = buildBalancesBST(arr, mid + 1, end)\n",
        "    return root\n",
        "\n",
        "def pre_order(n): # preorder traversal\n",
        "    if n!= None:\n",
        "        print(n.elem, end=\"--> \")\n",
        "        pre_order(n.left)\n",
        "        pre_order(n.right)\n",
        "\n",
        "def in_order(n):\n",
        "    if n!= None:\n",
        "        in_order(n.left)\n",
        "        print(n.elem, end=\"--> \")\n",
        "        in_order(n.right)\n",
        "\n",
        "print(\"Unbalance State Pre-Order:\")\n",
        "pre_order(root)  # preorder traversal\n",
        "arr = []\n",
        "pushTreeNodes(root, arr)\n",
        "newRoot = buildBalancesBST(arr, 0, len(arr) - 1)\n",
        "print(\"\\nBalance State Pre-Order:\")\n",
        "pre_order(newRoot)"
      ],
      "metadata": {
        "id": "QIbKTkP79Zrs",
        "colab": {
          "base_uri": "https://localhost:8080/"
        },
        "outputId": "eb9a5441-5239-4b70-9443-36772ff04d50"
      },
      "execution_count": 145,
      "outputs": [
        {
          "output_type": "stream",
          "name": "stdout",
          "text": [
            "Unbalance State Pre-Order:\n",
            "40--> 50--> 70--> 90--> 95--> 99--> \n",
            "Balance State Pre-Order:\n",
            "70--> 40--> 50--> 95--> 90--> 99--> "
          ]
        }
      ]
    },
    {
      "cell_type": "markdown",
      "source": [
        "     40                     \n",
        "      \\                     \n",
        "       50                   \n",
        "        \\                        90\n",
        "         70                     /  \\\n",
        "          \\                    /    \\\n",
        "           90                 50    99\n",
        "            \\                /  \\   /  \n",
        "             95             40  70 95\n",
        "              \\             \n",
        "               99           \n",
        "        Unbalansed BST       Balansed BST\n",
        "       "
      ],
      "metadata": {
        "id": "8OkmOoVdV_Hw"
      }
    }
  ]
}