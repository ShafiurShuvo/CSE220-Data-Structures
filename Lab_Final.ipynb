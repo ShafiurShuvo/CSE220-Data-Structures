{
 "cells": [
  {
   "cell_type": "code",
   "execution_count": 1,
   "id": "a4602d7a",
   "metadata": {},
   "outputs": [
    {
     "name": "stdout",
     "output_type": "stream",
     "text": [
      "5, 2, 8, 1, 4\n",
      "MAX Value (Iterative): 8\n",
      "MAX Value (Recursive): 8\n"
     ]
    }
   ],
   "source": [
    "class Node:\n",
    "    def __init__(self, ele, next, prev):\n",
    "        self.elem = ele\n",
    "        self.next = next\n",
    "        self.prev = prev\n",
    "\n",
    "class DoublyLinkedList:\n",
    "    def __init__(self,a):\n",
    "        if type(a) == list:\n",
    "            self.head = None\n",
    "            self.head = Node(a[0], None, None)\n",
    "            tail = self.head\n",
    "            for i in range(1, len(a)):\n",
    "                n = Node(a[i], None, None)\n",
    "                tail.next = n\n",
    "                n.prev = tail\n",
    "                tail = tail.next\n",
    "                tail = n\n",
    "\n",
    "        else:\n",
    "            self.head = a\n",
    "\n",
    "    def printList(self):\n",
    "        temp = self.head\n",
    "        while temp != None:\n",
    "            if temp.next == None:\n",
    "                print(temp.elem)\n",
    "            else:\n",
    "                print(temp.elem, end=', ')\n",
    "\n",
    "            temp = temp.next\n",
    "\n",
    "    def countNode(self):\n",
    "        count = 0\n",
    "        temp = self.head\n",
    "\n",
    "        while temp != None:\n",
    "            count += 1\n",
    "            temp = temp.next\n",
    "            if temp == self.head:\n",
    "                break\n",
    "        return count\n",
    "\n",
    "\n",
    "    def max_iteraive(self):\n",
    "        temp = self.head\n",
    "        max = self.head.elem\n",
    "        for i in range(0, self.countNode()):\n",
    "            if temp.elem > max:\n",
    "                max = temp.elem\n",
    "            temp = temp.next\n",
    "\n",
    "        return max\n",
    "\n",
    "    def max_recursive(self, head):\n",
    "        temp = head\n",
    "        if temp == None:\n",
    "            return None\n",
    "        elif temp.next == None:\n",
    "            return temp.elem\n",
    "        else:\n",
    "            max = self.max_recursive(temp.next)\n",
    "            if temp.elem > max:\n",
    "                return temp.elem\n",
    "            elif temp.next.elem < max:\n",
    "                return max\n",
    "           \n",
    "            return max\n",
    "\n",
    "a1 = [5, 2, 8, 1, 4]\n",
    "h1 = DoublyLinkedList(a1)\n",
    "h1.printList()\n",
    "print(f\"MAX Value (Iterative): {h1.max_iteraive()}\")\n",
    "print(f\"MAX Value (Recursive): {h1.max_recursive(h1.head)}\")"
   ]
  }
 ],
 "metadata": {
  "kernelspec": {
   "display_name": "Python 3",
   "language": "python",
   "name": "python3"
  },
  "language_info": {
   "codemirror_mode": {
    "name": "ipython",
    "version": 3
   },
   "file_extension": ".py",
   "mimetype": "text/x-python",
   "name": "python",
   "nbconvert_exporter": "python",
   "pygments_lexer": "ipython3",
   "version": "3.10.11"
  }
 },
 "nbformat": 4,
 "nbformat_minor": 5
}
