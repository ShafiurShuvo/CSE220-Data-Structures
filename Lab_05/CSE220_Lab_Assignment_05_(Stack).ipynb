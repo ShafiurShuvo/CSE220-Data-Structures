{
  "cells": [
    {
      "cell_type": "code",
      "execution_count": 8,
      "metadata": {
        "colab": {
          "base_uri": "https://localhost:8080/"
        },
        "id": "QYXeoneJ9yAE",
        "outputId": "9e9f8b31-5f97-41f1-bb58-f26567ee9a19"
      },
      "outputs": [
        {
          "name": "stdout",
          "output_type": "stream",
          "text": [
            "This expression is correct.\n",
            "This expression is NOT correct.\n",
            "Error at character # 10. '{'- not closed.\n",
            "This expression is correct.\n",
            "This expression is NOT correct.\n",
            "Error at character # 4. ']'- not opened.\n"
          ]
        }
      ],
      "source": [
        "# Using Array\n",
        "class Stack_arr:\n",
        "    def __init__(self, length):\n",
        "        self.length = length\n",
        "        self.count = 0\n",
        "        self.arr = [0] * self.length\n",
        "\n",
        "    def push(self, elem):\n",
        "        if self.count > -1 and self.count < self.length:\n",
        "            self.arr[self.count] = elem\n",
        "            self.count += 1\n",
        "        else:\n",
        "            return f'Stack Overflow'\n",
        "\n",
        "    def pop(self):\n",
        "        if self.count > 0:\n",
        "            self.count -= 1\n",
        "            popped_elem = self.arr[self.count]\n",
        "            self.arr[self.count] = 0\n",
        "            return popped_elem\n",
        "        else:\n",
        "            return f'Stack Underflow'\n",
        "\n",
        "    def peek(self):\n",
        "         if self.count > 0:\n",
        "             return self.arr[self.count-1]\n",
        "         else:\n",
        "             return None\n",
        "\n",
        "    def CheckParenthesis(self, string):\n",
        "        stack = Stack_arr(len(string))\n",
        "        idx = 1\n",
        "        for char in string:\n",
        "            if char == \"(\" or char == \"{\" or char == \"[\":\n",
        "                stack.push(idx)\n",
        "                stack.push(char)\n",
        "            elif char == \")\" or char == \"}\" or char == \"]\":\n",
        "                if stack.peek() is None:\n",
        "                    return f\"This expression is NOT correct.\\nError at character # {idx}. '{char}'- not opened.\"\n",
        "                elif stack.peek() == \"(\" and char == \")\" or stack.peek() == \"{\" and char == \"}\" or stack.peek() == \"[\" and char == \"]\":\n",
        "                    stack.pop()\n",
        "                    stack.pop()\n",
        "            idx += 1\n",
        "\n",
        "        if stack.peek() is None:\n",
        "            return \"This expression is correct.\"\n",
        "        else:\n",
        "            opening_char = stack.pop()\n",
        "            error_index = stack.pop()\n",
        "            return f\"This expression is NOT correct.\\nError at character # {error_index}. '{opening_char}'- not closed.\"\n",
        "\n",
        "n1 = Stack_arr(10)\n",
        "s1 = \"1+2*(3/4)\"\n",
        "s2 = \"1+2*[3*3+{4–5(6(7/8/9)+10)–11+(12*8)]+14\"\n",
        "s3 = \"1+2*[3*3+{4–5(6(7/8/9)+10)}–11+(12*8)/{13+13}]+14\"\n",
        "s4 = \"1+2]*[3*3+{4–5(6(7/8/9)+10)–11+(12*8)]+14\"\n",
        "print(n1.CheckParenthesis(s1))\n",
        "print(n1.CheckParenthesis(s2))\n",
        "print(n1.CheckParenthesis(s3))\n",
        "print(n1.CheckParenthesis(s4))"
      ]
    },
    {
      "cell_type": "code",
      "execution_count": null,
      "metadata": {
        "colab": {
          "base_uri": "https://localhost:8080/"
        },
        "id": "IK59Zzf7-FQG",
        "outputId": "7796824b-0e0c-4921-e9e7-b32e1a24e58f"
      },
      "outputs": [
        {
          "name": "stdout",
          "output_type": "stream",
          "text": [
            "This expression is correct.\n",
            "This expression is NOT correct.\n",
            "Error at character # 10. '{'- not closed.\n",
            "This expression is correct.\n",
            "This expression is NOT correct.\n",
            "Error at character # 4. ']'- not opened.\n"
          ]
        }
      ],
      "source": [
        "# Using Liked List\n",
        "class Node:\n",
        "    def __init__(self, value):\n",
        "        self.value = value\n",
        "        self.next = None\n",
        "\n",
        "class Stack:\n",
        "    def __init__(self):\n",
        "        self.top = None\n",
        "        self.length = 0\n",
        "\n",
        "    def push(self, elem):\n",
        "        new_node = Node(elem)\n",
        "        if self.top is None:\n",
        "            self.top = new_node\n",
        "        else:\n",
        "            new_node.next = self.top\n",
        "            self.top = new_node\n",
        "        self.length += 1\n",
        "\n",
        "    def pop(self):\n",
        "        if self.top is None:\n",
        "            return None\n",
        "        else:\n",
        "            temp = self.top\n",
        "            self.top = self.top.next\n",
        "            temp.next = None\n",
        "            self.length -= 1\n",
        "            return temp.value\n",
        "\n",
        "    def peek(self):\n",
        "        if self.top is None:\n",
        "            return None\n",
        "        else:\n",
        "            return self.top.value\n",
        "\n",
        "    def CheckParenthesis(self, string):\n",
        "        stack = Stack()\n",
        "        index = 1\n",
        "        for char in string:\n",
        "            if char == \"(\" or char == \"{\" or char == \"[\":\n",
        "                stack.push(index)\n",
        "                stack.push(char)\n",
        "            elif char == \")\" or char == \"}\" or char == \"]\":\n",
        "                if stack.peek() is None:\n",
        "                    return f\"This expression is NOT correct.\\nError at character # {index}. '{char}'- not opened.\"\n",
        "                elif stack.peek() == '(' and char == ')' or stack.peek() == '[' and char == ']' or stack.peek() == '{' and char == '}':\n",
        "                    stack.pop()\n",
        "                    stack.pop()\n",
        "            index += 1\n",
        "            \n",
        "        if stack.peek() is None:\n",
        "            return(\"This expression is correct.\")\n",
        "        else:\n",
        "            opening_char = stack.pop()\n",
        "            error_index = stack.pop()\n",
        "            return f\"This expression is NOT correct.\\nError at character # {error_index}. '{opening_char}'- not closed.\"\n",
        "\n",
        "n1 = Stack()\n",
        "s1 = \"1+2*(3/4)\"\n",
        "s2 = \"1+2*[3*3+{4–5(6(7/8/9)+10)–11+(12*8)]+14\"\n",
        "s3 = \"1+2*[3*3+{4–5(6(7/8/9)+10)}–11+(12*8)/{13+13}]+14\"\n",
        "s4 = \"1+2]*[3*3+{4–5(6(7/8/9)+10)–11+(12*8)]+14\"\n",
        "print(n1.CheckParenthesis(s1))\n",
        "print(n1.CheckParenthesis(s2))\n",
        "print(n1.CheckParenthesis(s3))\n",
        "print(n1.CheckParenthesis(s4))"
      ]
    }
  ],
  "metadata": {
    "colab": {
      "provenance": []
    },
    "kernelspec": {
      "display_name": "Python 3",
      "name": "python3"
    },
    "language_info": {
      "codemirror_mode": {
        "name": "ipython",
        "version": 3
      },
      "file_extension": ".py",
      "mimetype": "text/x-python",
      "name": "python",
      "nbconvert_exporter": "python",
      "pygments_lexer": "ipython3",
      "version": "3.12.6"
    }
  },
  "nbformat": 4,
  "nbformat_minor": 0
}
