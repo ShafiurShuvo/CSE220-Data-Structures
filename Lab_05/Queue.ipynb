{
  "nbformat": 4,
  "nbformat_minor": 0,
  "metadata": {
    "colab": {
      "provenance": []
    },
    "kernelspec": {
      "name": "python3",
      "display_name": "Python 3"
    },
    "language_info": {
      "name": "python"
    }
  },
  "cells": [
    {
      "cell_type": "code",
      "execution_count": null,
      "metadata": {
        "colab": {
          "base_uri": "https://localhost:8080/"
        },
        "id": "RvYqpYOJ-Toj",
        "outputId": "e04e1782-3610-4d42-d5a4-8f7dbe332f61"
      },
      "outputs": [
        {
          "output_type": "stream",
          "name": "stdout",
          "text": [
            "1\n",
            "1\n",
            "2\n"
          ]
        }
      ],
      "source": [
        "# Using Array\n",
        "class Queue:\n",
        "    def __init__(self):\n",
        "        self.queue = []\n",
        "\n",
        "    def enqueue(self, item):\n",
        "        self.queue.append(item)\n",
        "\n",
        "    def dequeue(self):\n",
        "        if len(self.queue) < 1:\n",
        "            return None\n",
        "        return self.queue.pop(0)\n",
        "\n",
        "    def peek(self):\n",
        "        if len(self.queue) < 1:\n",
        "            return None\n",
        "        return self.queue[0]\n",
        "\n",
        "q = Queue()\n",
        "\n",
        "q.enqueue(1)\n",
        "q.enqueue(2)\n",
        "q.enqueue(3)\n",
        "\n",
        "print(q.peek())  # Output: 1\n",
        "\n",
        "print(q.dequeue())  # Output: 1\n",
        "\n",
        "print(q.peek()) # Output: 2"
      ]
    },
    {
      "cell_type": "code",
      "source": [
        "# Using Array\n",
        "class Queue:\n",
        "    def __init__(self, length):\n",
        "        self.length = length\n",
        "        self.queue = [None] * self.length\n",
        "        self.front = 0 # Initializing at index 0\n",
        "        self.back = 0 # Initializing at index 0\n",
        "        self.size = 0 # no elements 0\n",
        "\n",
        "    def enqueue(self, elem):\n",
        "        if self.size == len(self.queue):\n",
        "            print(\"Queue Overflow\")\n",
        "        else:\n",
        "            self.queue[self.back] = elem\n",
        "            self.back =(self.back + 1) % len(self.queue)\n",
        "            self.size += 1\n",
        "\n",
        "    def dequeue(self):\n",
        "        if self.size == 0:\n",
        "            print(\"Queue Underflow\")\n",
        "        else:\n",
        "            dequeued_item = self.queue[self.front]\n",
        "            self.queue[self.front] = None\n",
        "            self.front = (self.front + 1)% len(self.queue)\n",
        "            self.size -= 1\n",
        "            return dequeued_item\n",
        "\n",
        "    def peek(self):\n",
        "        if self.size == 0:\n",
        "            print(\"Queue Underflow\")\n",
        "        else:\n",
        "            return self.queue[self.front]\n",
        "\n",
        "q = Queue(5)\n",
        "\n",
        "q.enqueue(1)\n",
        "q.enqueue(2)\n",
        "q.enqueue(3)\n",
        "\n",
        "print(q.peek())  # Output: 1\n",
        "\n",
        "print(q.dequeue())  # Output: 1\n",
        "\n",
        "print(q.peek()) # Output: 2"
      ],
      "metadata": {
        "colab": {
          "base_uri": "https://localhost:8080/"
        },
        "id": "szT017VbtMsR",
        "outputId": "f8e84e61-58ab-4a1d-b4a5-a78b3cd61468"
      },
      "execution_count": null,
      "outputs": [
        {
          "output_type": "stream",
          "name": "stdout",
          "text": [
            "1\n",
            "1\n",
            "2\n"
          ]
        }
      ]
    },
    {
      "cell_type": "code",
      "source": [
        "# Using Linked List\n",
        "class Node:\n",
        "    def __init__(self, data=None):\n",
        "        self.element = data\n",
        "        self.next = None\n",
        "\n",
        "class Queue:\n",
        "    def __init__(self):\n",
        "        self.front = None\n",
        "        self.rear = None\n",
        "\n",
        "    def enqueue(self, item):\n",
        "        new_node = Node(item)\n",
        "        if self.front == None:\n",
        "            self.front = self.rear = new_node\n",
        "        else:\n",
        "            self.rear.next = new_node\n",
        "            self.rear = self.rear.next\n",
        "\n",
        "    def dequeue(self):\n",
        "        if self.front == None:\n",
        "            return \"Queue Underflow Excemtion\"\n",
        "        else:\n",
        "            dequeued_item = self.front.element\n",
        "            self.front = self.front.next\n",
        "            return dequeued_item\n",
        "\n",
        "    def peek(self):\n",
        "        if self.front == None:\n",
        "            return \"Queue Underflow Excemtion\"\n",
        "        return self.front.element\n",
        "\n",
        "q = Queue()\n",
        "\n",
        "q.enqueue(1)\n",
        "q.enqueue(2)\n",
        "q.enqueue(3)\n",
        "\n",
        "print(q.peek())  # Output: 1\n",
        "\n",
        "print(q.dequeue())  # Output: 1\n",
        "\n",
        "print(q.peek())  # Output: 2"
      ],
      "metadata": {
        "id": "l4654s_Z-beE",
        "colab": {
          "base_uri": "https://localhost:8080/"
        },
        "outputId": "2e59232d-c4f3-41fe-c25f-47e481258734"
      },
      "execution_count": 1,
      "outputs": [
        {
          "output_type": "stream",
          "name": "stdout",
          "text": [
            "1\n",
            "1\n",
            "2\n"
          ]
        }
      ]
    },
    {
      "cell_type": "markdown",
      "source": [
        "# Question:\n",
        "A queue has been implemented using a **circular array** of capacity 5 and front index 4. Getting an alphanumeric means **enqueue(alphabet)**, ‘#’ means **dequeue()**, and ‘&’ means **peek()**.\n",
        "\n",
        "Now simulate the following sequence:\n",
        "\n",
        "**<font color='skyblue'>\n",
        "a 1 5 # & g # # q & 5 # & 0\n",
        "</font>**\n",
        "\n",
        "Simulate the operations of the given sequence in the above-mentioned queue. You need to show the output of the circular array after each operation. Also, find the queue's front and rear elements after the last operation."
      ],
      "metadata": {
        "id": "Dw8q3Colk_u1"
      }
    },
    {
      "cell_type": "code",
      "source": [
        "class ArrayQueue:\n",
        "    def __init__(self):\n",
        "        self.queue=[None]*5 # Queue with size 5\n",
        "        self.front= 4 # Initializing at index 4\n",
        "        self.back = 4 # Initializing at index 4\n",
        "        self.size = 0 # no elements 0\n",
        "\n",
        "    def enqueue(self, elem):\n",
        "        if self.size == len(self.queue):\n",
        "            print(\"Queue Overflow\")\n",
        "        else:\n",
        "            self.queue[self.back] = elem\n",
        "            self.back =(self.back + 1) % len(self.queue)\n",
        "            self.size += 1\n",
        "\n",
        "    def dequeue(self):\n",
        "        if self.size == 0:\n",
        "            print(\"Queue Underflow\")\n",
        "        else:\n",
        "            dequeued_item = self.queue[self.front]\n",
        "            self.queue[self.front] = None\n",
        "            self.front = (self.front + 1)% len(self.queue)\n",
        "            self.size -= 1\n",
        "            return dequeued_item\n",
        "\n",
        "    def peek(self):\n",
        "        if self.size == 0:\n",
        "            print(\"Queue Underflow\")\n",
        "        else:\n",
        "            return self.queue[self.front]\n",
        "\n",
        "def simulate_queue(sequence):\n",
        "\n",
        "    q = ArrayQueue()\n",
        "    print(\"Initial Queue:\", q.queue)\n",
        "    print(\"Front:\", q.front)\n",
        "    print(\"Rear:\", q.back)\n",
        "    for i in sequence.split():\n",
        "        if i == '#':\n",
        "            print(\"Dequeue:\", q.dequeue())\n",
        "        elif i == '&':\n",
        "            print(\"Peek:\", q.peek())\n",
        "        else:\n",
        "            q.enqueue(i)\n",
        "        print(\"Current Queue:\", q.queue)\n",
        "    print(\"Front:\", q.front)\n",
        "    print(\"Rear:\", q.back)\n",
        "\n",
        "sequence = \"a 1 5 # & g # # q & 5 # & 0\"\n",
        "simulate_queue(sequence)"
      ],
      "metadata": {
        "colab": {
          "base_uri": "https://localhost:8080/"
        },
        "id": "zFlqdTeZODxF",
        "outputId": "85a4e599-a902-4ba3-ff5d-4654b36efe74"
      },
      "execution_count": 5,
      "outputs": [
        {
          "output_type": "stream",
          "name": "stdout",
          "text": [
            "Initial Queue: [None, None, None, None, None]\n",
            "Front: 4\n",
            "Rear: 4\n",
            "Current Queue: [None, None, None, None, 'a']\n",
            "Current Queue: ['1', None, None, None, 'a']\n",
            "Current Queue: ['1', '5', None, None, 'a']\n",
            "Dequeue: a\n",
            "Current Queue: ['1', '5', None, None, None]\n",
            "Peek: 1\n",
            "Current Queue: ['1', '5', None, None, None]\n",
            "Current Queue: ['1', '5', 'g', None, None]\n",
            "Dequeue: 1\n",
            "Current Queue: [None, '5', 'g', None, None]\n",
            "Dequeue: 5\n",
            "Current Queue: [None, None, 'g', None, None]\n",
            "Current Queue: [None, None, 'g', 'q', None]\n",
            "Peek: g\n",
            "Current Queue: [None, None, 'g', 'q', None]\n",
            "Current Queue: [None, None, 'g', 'q', '5']\n",
            "Dequeue: g\n",
            "Current Queue: [None, None, None, 'q', '5']\n",
            "Peek: q\n",
            "Current Queue: [None, None, None, 'q', '5']\n",
            "Current Queue: ['0', None, None, 'q', '5']\n",
            "Front: 3\n",
            "Rear: 1\n"
          ]
        }
      ]
    },
    {
      "cell_type": "markdown",
      "source": [
        "# Remove odd elements of a circular queue"
      ],
      "metadata": {
        "id": "m9sfmm34OHhv"
      }
    },
    {
      "cell_type": "code",
      "source": [
        "class ArrayQueue:\n",
        "    def __init__(self):\n",
        "        self.queue=[None]*5 # Queue with size 5\n",
        "        self.front= 3 # Initializing at index 3\n",
        "        self.back = 3 # Initializing at index 3\n",
        "        self.size = 0 # no elements 0\n",
        "\n",
        "    def enqueue(self, elem):\n",
        "        if self.size == len(self.queue):\n",
        "            print(\"Queue Overflow\")\n",
        "        else:\n",
        "            self.queue[self.back] = elem\n",
        "            self.back =(self.back + 1) % len(self.queue)\n",
        "            self.size += 1\n",
        "\n",
        "    def dequeue(self):\n",
        "        if self.size == 0:\n",
        "            print(\"Queue Underflow\")\n",
        "        else:\n",
        "            dequeued_item = self.queue[self.front]\n",
        "            self.queue[self.front] = None\n",
        "            self.front = (self.front + 1)% len(self.queue)\n",
        "            self.size -= 1\n",
        "            return dequeued_item\n",
        "\n",
        "    def peek(self):\n",
        "        if self.size == 0:\n",
        "            print(\"Queue Underflow\")\n",
        "        else:\n",
        "            return self.queue[self.front]\n",
        "\n",
        "    def remove_odd(self):\n",
        "        new_queue = ArrayQueue()\n",
        "        for i in range(self.size):\n",
        "            item = self.dequeue()\n",
        "            if item % 2 == 0:\n",
        "                new_queue.enqueue(item)\n",
        "        self.queue = new_queue.queue\n",
        "        self.front = new_queue.front\n",
        "        self.back = new_queue.back\n",
        "        self.size = new_queue.size\n",
        "q = ArrayQueue()\n",
        "q.enqueue(1)\n",
        "q.enqueue(5)\n",
        "q.enqueue(2)\n",
        "q.enqueue(4)\n",
        "q.enqueue(7)\n",
        "print(\"Original Queue:\", [q.queue[(q.front+i)%len(q.queue)] for i in range(q.size)])\n",
        "q.remove_odd()\n",
        "print(\"Queue without odd numbers:\", [q.queue[(q.front+i)%len(q.queue)] for i in range(q.size)])"
      ],
      "metadata": {
        "colab": {
          "base_uri": "https://localhost:8080/"
        },
        "id": "rHpWQz4v4HeC",
        "outputId": "9e86c345-924c-4a38-f17e-bd37e037570b"
      },
      "execution_count": 2,
      "outputs": [
        {
          "output_type": "stream",
          "name": "stdout",
          "text": [
            "Original Queue: [1, 5, 2, 4, 7]\n",
            "Queue without odd numbers: [2, 4]\n"
          ]
        }
      ]
    }
  ]
}
