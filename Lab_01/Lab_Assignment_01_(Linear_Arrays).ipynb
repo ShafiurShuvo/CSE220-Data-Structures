{
  "cells": [
    {
      "cell_type": "markdown",
      "metadata": {
        "id": "wvL-7qAD0CBs"
      },
      "source": [
        "# PART - 01"
      ]
    },
    {
      "cell_type": "markdown",
      "metadata": {
        "id": "lJl5kEU9s6VF"
      },
      "source": [
        "**Instructions to Follow (Failing to follow these will result mark penalties).**\n",
        "\n",
        "\n",
        "1.   You can not use any built-in function except len()\n",
        "2.   You can not use any other python collections except list (e.g: tuptle, dictionaries etc.)\n",
        "3. If you need to initialize a new array using python list, you must mention the fixed size during initialization. There might be two approach. However, initializing new array in this lab is not mandatory.\n",
        "\n",
        "  i. arr = [None] * 10 #Initializing an array length 10 with values None.\n",
        "\n",
        "  ii. arr = [10, 20, 30, 40] #Initializing an array length 4 with the values.\n",
        "\n",
        "\n",
        "\n",
        "\n"
      ]
    },
    {
      "cell_type": "code",
      "execution_count": 1,
      "metadata": {
        "colab": {
          "base_uri": "https://localhost:8080/"
        },
        "id": "nAE3YxgdLMa1",
        "outputId": "b2c51847-9403-44e7-88dc-1ced86a1d989"
      },
      "outputs": [
        {
          "name": "stdout",
          "output_type": "stream",
          "text": [
            "Defaulting to user installation because normal site-packages is not writeable\n",
            "Collecting fhm-unittest\n",
            "  Using cached fhm_unittest-1.0.1-py3-none-any.whl.metadata (1.9 kB)\n",
            "Using cached fhm_unittest-1.0.1-py3-none-any.whl (2.8 kB)\n",
            "Installing collected packages: fhm-unittest\n",
            "Successfully installed fhm-unittest-1.0.1\n",
            "Defaulting to user installation because normal site-packages is not writeable\n",
            "Collecting fuzzywuzzy\n",
            "  Using cached fuzzywuzzy-0.18.0-py2.py3-none-any.whl.metadata (4.9 kB)\n",
            "Using cached fuzzywuzzy-0.18.0-py2.py3-none-any.whl (18 kB)\n",
            "Installing collected packages: fuzzywuzzy\n",
            "Successfully installed fuzzywuzzy-0.18.0\n"
          ]
        }
      ],
      "source": [
        "# You must run this cell to install dependency\n",
        "! pip3 install fhm-unittest\n",
        "! pip3 install fuzzywuzzy\n",
        "import fhm_unittest as unittest"
      ]
    },
    {
      "cell_type": "code",
      "execution_count": 2,
      "metadata": {
        "id": "tnfvwKtmypPi"
      },
      "outputs": [],
      "source": [
        "# Complete the functions defined in this cell\n",
        "\n",
        "# Test 01: Shift Left k cell\n",
        "def shift_left(source, k):\n",
        "  for i in range(0, len(source) - k):\n",
        "    source[i] = source[i+k]\n",
        "  for i in range(len(source)-1,len(source)-k-1,-1):\n",
        "    source[i] = 0\n",
        "\n",
        "  return source\n",
        "\n",
        "\n",
        "# Test 02: Rotate Left k cell\n",
        "def rotate_left(source, k):\n",
        "  temp = [0] * k\n",
        "  for i in range(0,k):\n",
        "    temp[i] = source[i]\n",
        "\n",
        "  for i in range(0, len(source) - k):\n",
        "    source[i] = source[i+k]\n",
        "  for i in range(len(source)-1,(len(source) - k)-1,-1):\n",
        "    source[i] = temp[i-(len(source) - k)]\n",
        "\n",
        "  return source\n",
        "\n",
        "\n",
        "# Test 03: Shift Right k cell\n",
        "def shift_right(source, k):\n",
        "  for i in range(len(source) - 1,k-1,-1):\n",
        "    source[i] = source[i-k]\n",
        "  for i in range(0,k):\n",
        "    source[i] = 0\n",
        "\n",
        "  return source\n",
        "\n",
        "\n",
        "# Test 04: Rotate Right k cell\n",
        "def rotate_right(source, k):\n",
        "\n",
        "  temp = [0] * k\n",
        "  for i in range(len(source)-1,(len(source)-k)-1,-1):\n",
        "    temp[i-(len(source)-k)] = source[i]\n",
        "\n",
        "  for i in range(len(source) - 1,k-1,-1):\n",
        "    source[i] = source[i-k]\n",
        "\n",
        "  for i in range(0,k):\n",
        "    source[i] = temp[i]\n",
        "\n",
        "  return source\n",
        "\n",
        "# Test 05: Remove an element from an array\n",
        "def remove(source, idx):\n",
        "  if idx < 0 or idx > len(source) - 1:\n",
        "      print(\"Invalid Syntax\")\n",
        "  else:\n",
        "      to = idx\n",
        "      from_ = to + 1\n",
        "      nShift = len(source) - idx - 1\n",
        "      #print(nShift)\n",
        "  for i in range(0, nShift):\n",
        "      source[to] = source[from_]\n",
        "      to = from_\n",
        "      from_ = to + 1\n",
        "  source[len(source) - 1] = 0\n",
        "\n",
        "  return source\n",
        "\n",
        "\n",
        "\n",
        "# Test 06: Remove all occurrences of a particular element from an array\n",
        "def remove_all(source, element):\n",
        "  p = 0\n",
        "  q = 0\n",
        "  for i in range(0, len(source)):\n",
        "    if source[i] != element:\n",
        "      source[i-p]=source[i]\n",
        "    else:\n",
        "      p += 1\n",
        "  for i in range((len(source)-p), len(source)):\n",
        "    source[i] = 0\n",
        "  return source\n",
        "\n",
        "\n",
        "\n",
        "# Test 07: Splitting an Array\n",
        "def split_array(a):\n",
        "  left = 0\n",
        "  for i in range(0, len(a) -1):\n",
        "      left += a[i]\n",
        "      right = 0\n",
        "\n",
        "      for j in range(len(a)-1 , i, -1):\n",
        "          right += a[j]\n",
        "\n",
        "      if left == right:\n",
        "        output = True\n",
        "        break\n",
        "      else:\n",
        "        output = False\n",
        "  return output\n",
        "\n",
        "\n",
        "\n",
        "# Test 08: Max Bunch Count\n",
        "def max_bunch(a):\n",
        "  max = 0\n",
        "  temp = 1\n",
        "\n",
        "  for i in range(0, len(a)-1):\n",
        "      if a[i] == a[i+1] and a[i+1] == a[i]:\n",
        "          temp += 1\n",
        "\n",
        "          if max < temp:\n",
        "              max = temp\n",
        "      else:\n",
        "        temp = 1\n",
        "\n",
        "  return max"
      ]
    },
    {
      "cell_type": "code",
      "execution_count": 3,
      "metadata": {
        "colab": {
          "base_uri": "https://localhost:8080/"
        },
        "id": "mrxIQ5rBhzPj",
        "outputId": "82e19408-f128-463c-bcd0-efdf162f0635"
      },
      "outputs": [
        {
          "name": "stdout",
          "output_type": "stream",
          "text": [
            "///  Test 01: Shift Left k cell  ///\n",
            "Accepted\n",
            "///  Test 02: Rotate Left k cell  ///\n",
            "Accepted\n",
            "///  Test 03: Shift Right k cell  ///\n",
            "Accepted\n",
            "///  Test 04: Rotate Right k cell  ///\n",
            "Accepted\n",
            "///  Test 05: Remove an element from an array  ///\n",
            "Accepted\n",
            "///  Test 06: Remove all occurrences of a particular element from an array  ///\n",
            "Accepted\n",
            "///  Test 07: Splitting an Array  ///\n",
            "Accepted\n",
            "Accepted\n",
            "Accepted\n",
            "///  Test 08: Max Bunch Count  ///\n",
            "Accepted\n",
            "Accepted\n"
          ]
        }
      ],
      "source": [
        "# This cell is the driver code\n",
        "# Run this cell after completion of above function.\n",
        "# You will see the status Accepted after completion if your code is correct.\n",
        "# If your function is wrong you will see wrong[correction percentage]\n",
        "# This is call unit testing if you are wondering the checking approach\n",
        "# No need to write or change any code here\n",
        "\n",
        "print(\"///  Test 01: Shift Left k cell  ///\")\n",
        "source = [10,20,30,40,50,60]\n",
        "returned_value = shift_left(source, 3) # This should return [40, 50, 60, 0, 0, 0]\n",
        "unittest.output_test(returned_value, [40, 50, 60, 0, 0, 0])\n",
        "\n",
        "\n",
        "print(\"///  Test 02: Rotate Left k cell  ///\")\n",
        "source = [10,20,30,40,50,60]\n",
        "returned_value = rotate_left(source, 3) # This should return [40, 50, 60, 10, 20, 30]\n",
        "unittest.output_test(returned_value, [40, 50, 60, 10, 20, 30])\n",
        "\n",
        "\n",
        "print(\"///  Test 03: Shift Right k cell  ///\")\n",
        "source = [10,20,30,40,50,60]\n",
        "returned_value = shift_right(source, 3) # This should return [0, 0, 0, 10, 20, 30]\n",
        "unittest.output_test(returned_value, [0, 0, 0, 10, 20, 30])\n",
        "\n",
        "\n",
        "print(\"///  Test 04: Rotate Right k cell  ///\")\n",
        "source = [10,20,30,40,50,60]\n",
        "returned_value = rotate_right(source, 3) # This should return [40, 50, 60, 10, 20, 30]\n",
        "unittest.output_test(returned_value, [40, 50, 60, 10, 20, 30])\n",
        "\n",
        "\n",
        "print(\"///  Test 05: Remove an element from an array  ///\")\n",
        "source = [10,20,30,40,50,0,0]\n",
        "returned_value = remove(source, 2) # This should return [10, 20, 40, 50, 0, 0, 0]\n",
        "unittest.output_test(returned_value, [10, 20, 40, 50, 0, 0, 0])\n",
        "\n",
        "\n",
        "print(\"///  Test 06: Remove all occurrences of a particular element from an array  ///\")\n",
        "source = [10,2,30,2,50,2,2,0,0]\n",
        "returned_value = remove_all(source, 2) # This should return [10, 30, 50, 0, 0, 0, 0, 0, 0]\n",
        "unittest.output_test(returned_value, [10, 30, 50, 0, 0, 0, 0, 0, 0])\n",
        "\n",
        "\n",
        "print(\"///  Test 07: Splitting an Array  ///\")\n",
        "test_1 = [1, 1, 1, 2, 1] # Here splitting is possible as summation of [1, 1, 1] = summation of [2,1]\n",
        "returned_value = split_array(test_1) # This should return True\n",
        "test_2 = [2, 1, 1, 2, 1] # Here splitting is not possible\n",
        "returned_value = split_array(test_2) # This should return False\n",
        "test_3 = [10, 3, 1, 2, 10] # Here splitting is possible as summation of [10, 3] = summation of [1,2,10]\n",
        "returned_value = split_array(test_3) # This should return True\n",
        "unittest.output_test(split_array(test_1), True)\n",
        "unittest.output_test(split_array(test_2), False)\n",
        "unittest.output_test(split_array(test_3), True)\n",
        "\n",
        "\n",
        "print(\"///  Test 08: Max Bunch Count  ///\")\n",
        "returned_value = max_bunch([1, 2, 2, 3, 4, 4, 4]) # This should return 3\n",
        "unittest.output_test(returned_value, 3)\n",
        "returned_value = max_bunch([1, 1, 2, 2, 1, 1, 1, 1]) # This should return 4\n",
        "unittest.output_test(returned_value, 4)\n"
      ]
    },
    {
      "cell_type": "markdown",
      "metadata": {
        "id": "c5QdwlEl0JSi"
      },
      "source": [
        "# PART - 02"
      ]
    },
    {
      "cell_type": "code",
      "execution_count": 4,
      "metadata": {
        "colab": {
          "base_uri": "https://localhost:8080/"
        },
        "id": "eZsHaMp30L-u",
        "outputId": "947c0406-47fe-442f-d968-16e6b8680582"
      },
      "outputs": [
        {
          "name": "stdout",
          "output_type": "stream",
          "text": [
            "Mean = 10.18\n"
          ]
        }
      ],
      "source": [
        "# Task 1:\n",
        "def mean(source):\n",
        "    x = 0\n",
        "    for i in source:\n",
        "        x += i\n",
        "    #print(x)\n",
        "    mean = x/len(source)\n",
        "    return round(mean, 2)\n",
        "\n",
        "source = [10, 8, 13, 9, 14, 25, -5, 20, 7, 7, 4]\n",
        "returned_value = mean(source)\n",
        "print(\"Mean =\", returned_value)"
      ]
    },
    {
      "cell_type": "code",
      "execution_count": 5,
      "metadata": {
        "colab": {
          "base_uri": "https://localhost:8080/"
        },
        "id": "sEQRl1Xd0MWf",
        "outputId": "d4522dd1-d15a-4383-a932-8702907a581e"
      },
      "outputs": [
        {
          "name": "stdout",
          "output_type": "stream",
          "text": [
            "Standard Deviation = 7.96\n"
          ]
        }
      ],
      "source": [
        "# Task 2:\n",
        "# # Run the previous cell before running this cell\n",
        "def sd(source, mean):\n",
        "    source\n",
        "    y = 0\n",
        "    for i in range(0, len(source)):\n",
        "        y += (source[i] - mean)**2\n",
        "        value = (y/(len(source) - 1))**0.5\n",
        "    return round(value, 2)\n",
        "\n",
        "source = [10, 8, 13, 9, 14, 25, -5, 20, 7, 7, 4]\n",
        "mean_ =  mean(source)\n",
        "returned_value = sd(source, mean_)\n",
        "print(\"Standard Deviation =\", returned_value)"
      ]
    },
    {
      "cell_type": "code",
      "execution_count": 6,
      "metadata": {
        "colab": {
          "base_uri": "https://localhost:8080/"
        },
        "id": "QBlzxYOV0M0I",
        "outputId": "b73d3bdc-3cbf-40e0-ea06-ac7a667f75ec"
      },
      "outputs": [
        {
          "name": "stdout",
          "output_type": "stream",
          "text": [
            "New array: [25, -5]\n"
          ]
        }
      ],
      "source": [
        "# Task 3:\n",
        "# Run the previous two cells before running this cell\n",
        "def new_array(source,mean,sd):\n",
        "  count = 0\n",
        "  w = 0\n",
        "  upper = mean + (1.5*sd)\n",
        "  lower = mean - (1.5*sd)\n",
        "  for i in range (0, len(source)):\n",
        "    if lower > source[i] or upper < source[i]:\n",
        "      count += 1\n",
        "  new_array = [0] * count\n",
        "  for i in range (0, len(source)):\n",
        "    if lower > source[i] or upper < source[i]:\n",
        "      new_array[w] = source[i]\n",
        "      w+=1\n",
        "\n",
        "  return new_array\n",
        "\n",
        "\n",
        "source = [10, 8, 13, 9, 14, 25, -5, 20, 7, 7, 4]\n",
        "mean_ = mean(source)\n",
        "sd_ = sd(source,mean_)\n",
        "print(\"New array:\",new_array(source,mean_,sd_))"
      ]
    }
  ],
  "metadata": {
    "colab": {
      "provenance": []
    },
    "kernelspec": {
      "display_name": "base",
      "language": "python",
      "name": "python3"
    },
    "language_info": {
      "codemirror_mode": {
        "name": "ipython",
        "version": 3
      },
      "file_extension": ".py",
      "mimetype": "text/x-python",
      "name": "python",
      "nbconvert_exporter": "python",
      "pygments_lexer": "ipython3",
      "version": "3.11.7"
    }
  },
  "nbformat": 4,
  "nbformat_minor": 0
}
