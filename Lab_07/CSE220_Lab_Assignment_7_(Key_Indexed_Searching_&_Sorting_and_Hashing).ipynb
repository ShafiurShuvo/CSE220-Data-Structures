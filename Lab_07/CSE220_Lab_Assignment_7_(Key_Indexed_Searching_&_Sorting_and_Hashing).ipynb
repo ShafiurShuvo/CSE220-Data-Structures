{
  "nbformat": 4,
  "nbformat_minor": 0,
  "metadata": {
    "colab": {
      "provenance": []
    },
    "kernelspec": {
      "name": "python3",
      "display_name": "Python 3"
    },
    "language_info": {
      "name": "python"
    }
  },
  "cells": [
    {
      "cell_type": "code",
      "execution_count": 1,
      "metadata": {
        "colab": {
          "base_uri": "https://localhost:8080/"
        },
        "id": "1Chut-mpehmW",
        "outputId": "2228ecca-6df6-4ca8-91d8-81640414bc62"
      },
      "outputs": [
        {
          "output_type": "stream",
          "name": "stdout",
          "text": [
            "True\n",
            "[-9, -9, -9, -8, -8, -7, -6, -5, -4, 1, 1, 1, 2, 2, 3, 4, 4, 5, 5, 7, 8, 9]\n"
          ]
        }
      ],
      "source": [
        "#task-1\n",
        "class KeyIndex:\n",
        "    def __init__(self,a):\n",
        "        self.a = a\n",
        "        self.min = self.max = self.a[0]\n",
        "\n",
        "        for i in self.a:\n",
        "            if self.min > i:\n",
        "                self.min = i\n",
        "            if self.max < i:\n",
        "                self.max = i\n",
        "\n",
        "        new_arr_length = self.max - self.min + 1\n",
        "        key = -self.min\n",
        "\n",
        "        self.k = [0] * new_arr_length\n",
        "        for y in range(len(self.a)):\n",
        "            self.k[self.a[y] - self.min] = self.k[self.a[y] - self.min] + 1\n",
        "\n",
        "        # print(f\"new array: {self.k}\")\n",
        "    def sort(self):\n",
        "        sorted_arr = [None] * len(self.a)\n",
        "        idx = 0\n",
        "        for i in range(len(self.k)):\n",
        "            if self.k[i] > 0:\n",
        "                for j in range(self.k[i]):\n",
        "                    sorted_arr[idx] = i + self.min\n",
        "                    idx += 1\n",
        "        return sorted_arr\n",
        "\n",
        "    def search(self, value):\n",
        "        if self.max >= value and self.min <= value:\n",
        "            if self.k[value - self.min] > 0:\n",
        "                return True\n",
        "            else:\n",
        "                return False\n",
        "        else:\n",
        "            return False\n",
        "\n",
        "x = KeyIndex([1,2,3,4,-8,-4,-5,2,7,9,5,4,-7,-9,-8,-6,5,1,8,-9,-9,1])\n",
        "print(x.search(3))\n",
        "print(x.sort())"
      ]
    },
    {
      "cell_type": "code",
      "source": [
        "#task-2\n",
        "class HashTable:\n",
        "    def __init__(self, arr):\n",
        "        self.array = arr\n",
        "        self.hash_table = [None] * 9\n",
        "\n",
        "    def Hash(self, string):\n",
        "        cons_count = 0\n",
        "        num = 0\n",
        "        for i in string:\n",
        "            if i in \"0123456789\":\n",
        "                num += int(i)\n",
        "            elif i not in \"AEIOU\":\n",
        "                cons_count += 1\n",
        "        new_idx = (cons_count*24 + num) % 9\n",
        "        return new_idx\n",
        "\n",
        "    def LinearProbing(self):\n",
        "        for i in self.array:\n",
        "            value = self.Hash(i)\n",
        "            if self.hash_table[value] == None:\n",
        "                self.hash_table[value] = i\n",
        "            else:\n",
        "                for j in range(len(self.hash_table)):\n",
        "                    if (self.hash_table[(value+1+j)%len(self.hash_table)]) == None:\n",
        "                        self.hash_table[(value+1+j)%len(self.hash_table)] = i\n",
        "                        break\n",
        "        return self.hash_table\n",
        "\n",
        "\n",
        "arr = [\"DECBJEH\",\"R6VC1R16\",\"R4C1R\",\"CNUY19T\",\"V5TRFC\",\"JMU5CFR2\",\"T5B54V\",\"VT554RF\",\"MU1FR\"]\n",
        "x = HashTable(arr)\n",
        "x.LinearProbing()\n",
        "print(x.hash_table)"
      ],
      "metadata": {
        "colab": {
          "base_uri": "https://localhost:8080/"
        },
        "id": "JtyzMM2gejOx",
        "outputId": "a318c739-1ac8-49fa-89fe-e8b3fdbfd72e"
      },
      "execution_count": null,
      "outputs": [
        {
          "output_type": "stream",
          "name": "stdout",
          "text": [
            "['MU1FR', 'JMU5CFR2', 'R6VC1R16', 'DECBJEH', 'VT554RF', 'R4C1R', 'T5B54V', 'CNUY19T', 'V5TRFC']\n"
          ]
        }
      ]
    }
  ]
}